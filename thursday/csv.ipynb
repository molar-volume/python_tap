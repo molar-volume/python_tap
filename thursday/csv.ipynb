{
 "cells": [
  {
   "cell_type": "code",
   "execution_count": 1,
   "id": "4690724c",
   "metadata": {},
   "outputs": [],
   "source": [
    "import csv"
   ]
  },
  {
   "cell_type": "code",
   "execution_count": 17,
   "id": "f6f5b34c",
   "metadata": {},
   "outputs": [
    {
     "name": "stdout",
     "output_type": "stream",
     "text": [
      "[['name', 'department', 'birthday month'], ['John Smith', 'Accounting', 'November'], ['Erica Meyers', 'IT', 'March']]\n"
     ]
    }
   ],
   "source": [
    "# basic reading\n",
    "with open('birthday.csv',) as csv_file:\n",
    "    csv_reader = csv.reader(csv_file)\n",
    "    line_count = 0\n",
    "    print(list(csv_reader))\n",
    "    \n",
    "#     [\n",
    "#         [name,department,birthday month],\n",
    "#         [john smith, accounting, november],\n",
    "#         [erica mayers, IT, March]\n",
    "#     ]"
   ]
  },
  {
   "cell_type": "code",
   "execution_count": 22,
   "id": "006e8244",
   "metadata": {
    "scrolled": true
   },
   "outputs": [
    {
     "name": "stdout",
     "output_type": "stream",
     "text": [
      "[{'name': 'John Smith', 'department': 'Accounting', 'birthday month': 'November'}, {'name': 'Erica Meyers', 'department': 'IT', 'birthday month': 'March'}]\n"
     ]
    }
   ],
   "source": [
    "# reading to dict\n",
    "with open('birthday.csv', mode='r') as csv_file:\n",
    "    csv_reader = csv.DictReader(csv_file)\n",
    "    line_count = 0\n",
    "    print(list(csv_reader))"
   ]
  },
  {
   "cell_type": "code",
   "execution_count": null,
   "id": "f456e5f8",
   "metadata": {},
   "outputs": [],
   "source": [
    "# WRITING TO CSV"
   ]
  },
  {
   "cell_type": "code",
   "execution_count": 25,
   "id": "d1c4ad35",
   "metadata": {},
   "outputs": [],
   "source": [
    "with open('employee_file.csv', mode='w') as employee_file:\n",
    "    employee_writer = csv.writer(employee_file, delimiter=',', quotechar='\"', quoting=csv.QUOTE_ALL)\n",
    "\n",
    "    employee_writer.writerow(['John Smith', 'Accounting', 'November'])\n",
    "    employee_writer.writerow(['Erica Meyers', 'IT', 'March'])"
   ]
  },
  {
   "cell_type": "markdown",
   "id": "39bbe0ce",
   "metadata": {},
   "source": [
    "If quoting is set to csv.QUOTE_MINIMAL, then .writerow() will quote fields only if they contain the delimiter or the quotechar. This is the default case."
   ]
  },
  {
   "cell_type": "markdown",
   "id": "05d704ef",
   "metadata": {},
   "source": [
    "If quoting is set to csv.QUOTE_ALL, then .writerow() will quote all fields."
   ]
  },
  {
   "cell_type": "markdown",
   "id": "109136ab",
   "metadata": {},
   "source": [
    "If quoting is set to csv.QUOTE_NONNUMERIC, then .writerow() will quote all fields containing text data and convert all numeric fields to the float data type."
   ]
  },
  {
   "cell_type": "markdown",
   "id": "9b001790",
   "metadata": {},
   "source": [
    "If quoting is set to csv.QUOTE_NONE, then .writerow() will escape delimiters instead of quoting them. In this case, you also must provide a value for the escapechar optional parameter."
   ]
  },
  {
   "cell_type": "code",
   "execution_count": 9,
   "id": "036d60c9",
   "metadata": {},
   "outputs": [],
   "source": [
    "with open('employee_file2.csv', mode='w') as csv_file:\n",
    "    fieldnames = ['emp_name', 'dept', 'birth_month']\n",
    "    writer = csv.DictWriter(csv_file, fieldnames=fieldnames)\n",
    "\n",
    "    writer.writeheader()\n",
    "    writer.writerow({'emp_name': 'John Smith', 'dept': 'Accounting', 'birth_month': 'November'})\n",
    "    writer.writerow({'emp_name': 'Erica Meyers', 'dept': 'IT', 'birth_month': 'March'})"
   ]
  },
  {
   "cell_type": "code",
   "execution_count": null,
   "id": "b46f368f",
   "metadata": {},
   "outputs": [],
   "source": [
    "import pandas"
   ]
  }
 ],
 "metadata": {
  "kernelspec": {
   "display_name": "Python 3 (ipykernel)",
   "language": "python",
   "name": "python3"
  },
  "language_info": {
   "codemirror_mode": {
    "name": "ipython",
    "version": 3
   },
   "file_extension": ".py",
   "mimetype": "text/x-python",
   "name": "python",
   "nbconvert_exporter": "python",
   "pygments_lexer": "ipython3",
   "version": "3.9.7"
  }
 },
 "nbformat": 4,
 "nbformat_minor": 5
}
