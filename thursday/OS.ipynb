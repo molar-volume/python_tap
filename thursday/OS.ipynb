{
 "cells": [
  {
   "cell_type": "code",
   "execution_count": null,
   "id": "60af0fdd",
   "metadata": {},
   "outputs": [],
   "source": []
  },
  {
   "cell_type": "code",
   "execution_count": 58,
   "id": "072045cf",
   "metadata": {},
   "outputs": [],
   "source": [
    "import os"
   ]
  },
  {
   "cell_type": "code",
   "execution_count": 59,
   "id": "b5a5bb12",
   "metadata": {},
   "outputs": [
    {
     "data": {
      "text/plain": [
       "{'__name__': 'os',\n",
       " '__doc__': \"OS routines for NT or Posix depending on what system we're on.\\n\\nThis exports:\\n  - all functions from posix or nt, e.g. unlink, stat, etc.\\n  - os.path is either posixpath or ntpath\\n  - os.name is either 'posix' or 'nt'\\n  - os.curdir is a string representing the current directory (always '.')\\n  - os.pardir is a string representing the parent directory (always '..')\\n  - os.sep is the (or a most common) pathname separator ('/' or '\\\\\\\\')\\n  - os.extsep is the extension separator (always '.')\\n  - os.altsep is the alternate pathname separator (None or '/')\\n  - os.pathsep is the component separator used in $PATH etc\\n  - os.linesep is the line separator in text files ('\\\\r' or '\\\\n' or '\\\\r\\\\n')\\n  - os.defpath is the default search path for executables\\n  - os.devnull is the file path of the null device ('/dev/null', etc.)\\n\\nPrograms that import and use 'os' stand a better chance of being\\nportable between different platforms.  Of course, they must then\\nonly use functions that are defined by all platforms (e.g., unlink\\nand opendir), and leave all pathname manipulation to os.path\\n(e.g., split and join).\\n\",\n",
       " '__package__': '',\n",
       " '__loader__': <_frozen_importlib_external.SourceFileLoader at 0x7f8a08056a60>,\n",
       " '__spec__': ModuleSpec(name='os', loader=<_frozen_importlib_external.SourceFileLoader object at 0x7f8a08056a60>, origin='/Users/miro.tomasik/opt/anaconda3/envs/python_tap/lib/python3.9/os.py'),\n",
       " '__file__': '/Users/miro.tomasik/opt/anaconda3/envs/python_tap/lib/python3.9/os.py',\n",
       " '__cached__': '/Users/miro.tomasik/opt/anaconda3/envs/python_tap/lib/python3.9/__pycache__/os.cpython-39.pyc',\n",
       " '__builtins__': {'__name__': 'builtins',\n",
       "  '__doc__': \"Built-in functions, exceptions, and other objects.\\n\\nNoteworthy: None is the `nil' object; Ellipsis represents `...' in slices.\",\n",
       "  '__package__': '',\n",
       "  '__loader__': _frozen_importlib.BuiltinImporter,\n",
       "  '__spec__': ModuleSpec(name='builtins', loader=<class '_frozen_importlib.BuiltinImporter'>, origin='built-in'),\n",
       "  '__build_class__': <function __build_class__>,\n",
       "  '__import__': <function __import__>,\n",
       "  'abs': <function abs(x, /)>,\n",
       "  'all': <function all(iterable, /)>,\n",
       "  'any': <function any(iterable, /)>,\n",
       "  'ascii': <function ascii(obj, /)>,\n",
       "  'bin': <function bin(number, /)>,\n",
       "  'breakpoint': <function breakpoint>,\n",
       "  'callable': <function callable(obj, /)>,\n",
       "  'chr': <function chr(i, /)>,\n",
       "  'compile': <function compile(source, filename, mode, flags=0, dont_inherit=False, optimize=-1, *, _feature_version=-1)>,\n",
       "  'delattr': <function delattr(obj, name, /)>,\n",
       "  'dir': <function dir>,\n",
       "  'divmod': <function divmod(x, y, /)>,\n",
       "  'eval': <function eval(source, globals=None, locals=None, /)>,\n",
       "  'exec': <function exec(source, globals=None, locals=None, /)>,\n",
       "  'format': <function format(value, format_spec='', /)>,\n",
       "  'getattr': <function getattr>,\n",
       "  'globals': <function globals()>,\n",
       "  'hasattr': <function hasattr(obj, name, /)>,\n",
       "  'hash': <function hash(obj, /)>,\n",
       "  'hex': <function hex(number, /)>,\n",
       "  'id': <function id(obj, /)>,\n",
       "  'input': <bound method Kernel.raw_input of <ipykernel.ipkernel.IPythonKernel object at 0x7f8a09813730>>,\n",
       "  'isinstance': <function isinstance(obj, class_or_tuple, /)>,\n",
       "  'issubclass': <function issubclass(cls, class_or_tuple, /)>,\n",
       "  'iter': <function iter>,\n",
       "  'len': <function len(obj, /)>,\n",
       "  'locals': <function locals()>,\n",
       "  'max': <function max>,\n",
       "  'min': <function min>,\n",
       "  'next': <function next>,\n",
       "  'oct': <function oct(number, /)>,\n",
       "  'ord': <function ord(c, /)>,\n",
       "  'pow': <function pow(base, exp, mod=None)>,\n",
       "  'print': <function print>,\n",
       "  'repr': <function repr(obj, /)>,\n",
       "  'round': <function round(number, ndigits=None)>,\n",
       "  'setattr': <function setattr(obj, name, value, /)>,\n",
       "  'sorted': <function sorted(iterable, /, *, key=None, reverse=False)>,\n",
       "  'sum': <function sum(iterable, /, start=0)>,\n",
       "  'vars': <function vars>,\n",
       "  'None': None,\n",
       "  'Ellipsis': Ellipsis,\n",
       "  'NotImplemented': NotImplemented,\n",
       "  'False': False,\n",
       "  'True': True,\n",
       "  'bool': bool,\n",
       "  'memoryview': memoryview,\n",
       "  'bytearray': bytearray,\n",
       "  'bytes': bytes,\n",
       "  'classmethod': classmethod,\n",
       "  'complex': complex,\n",
       "  'dict': dict,\n",
       "  'enumerate': enumerate,\n",
       "  'filter': filter,\n",
       "  'float': float,\n",
       "  'frozenset': frozenset,\n",
       "  'property': property,\n",
       "  'int': int,\n",
       "  'list': list,\n",
       "  'map': map,\n",
       "  'object': object,\n",
       "  'range': range,\n",
       "  'reversed': reversed,\n",
       "  'set': set,\n",
       "  'slice': slice,\n",
       "  'staticmethod': staticmethod,\n",
       "  'str': str,\n",
       "  'super': super,\n",
       "  'tuple': tuple,\n",
       "  'type': type,\n",
       "  'zip': zip,\n",
       "  '__debug__': True,\n",
       "  'BaseException': BaseException,\n",
       "  'Exception': Exception,\n",
       "  'TypeError': TypeError,\n",
       "  'StopAsyncIteration': StopAsyncIteration,\n",
       "  'StopIteration': StopIteration,\n",
       "  'GeneratorExit': GeneratorExit,\n",
       "  'SystemExit': SystemExit,\n",
       "  'KeyboardInterrupt': KeyboardInterrupt,\n",
       "  'ImportError': ImportError,\n",
       "  'ModuleNotFoundError': ModuleNotFoundError,\n",
       "  'OSError': OSError,\n",
       "  'EnvironmentError': OSError,\n",
       "  'IOError': OSError,\n",
       "  'EOFError': EOFError,\n",
       "  'RuntimeError': RuntimeError,\n",
       "  'RecursionError': RecursionError,\n",
       "  'NotImplementedError': NotImplementedError,\n",
       "  'NameError': NameError,\n",
       "  'UnboundLocalError': UnboundLocalError,\n",
       "  'AttributeError': AttributeError,\n",
       "  'SyntaxError': SyntaxError,\n",
       "  'IndentationError': IndentationError,\n",
       "  'TabError': TabError,\n",
       "  'LookupError': LookupError,\n",
       "  'IndexError': IndexError,\n",
       "  'KeyError': KeyError,\n",
       "  'ValueError': ValueError,\n",
       "  'UnicodeError': UnicodeError,\n",
       "  'UnicodeEncodeError': UnicodeEncodeError,\n",
       "  'UnicodeDecodeError': UnicodeDecodeError,\n",
       "  'UnicodeTranslateError': UnicodeTranslateError,\n",
       "  'AssertionError': AssertionError,\n",
       "  'ArithmeticError': ArithmeticError,\n",
       "  'FloatingPointError': FloatingPointError,\n",
       "  'OverflowError': OverflowError,\n",
       "  'ZeroDivisionError': ZeroDivisionError,\n",
       "  'SystemError': SystemError,\n",
       "  'ReferenceError': ReferenceError,\n",
       "  'MemoryError': MemoryError,\n",
       "  'BufferError': BufferError,\n",
       "  'Warning': Warning,\n",
       "  'UserWarning': UserWarning,\n",
       "  'DeprecationWarning': DeprecationWarning,\n",
       "  'PendingDeprecationWarning': PendingDeprecationWarning,\n",
       "  'SyntaxWarning': SyntaxWarning,\n",
       "  'RuntimeWarning': RuntimeWarning,\n",
       "  'FutureWarning': FutureWarning,\n",
       "  'ImportWarning': ImportWarning,\n",
       "  'UnicodeWarning': UnicodeWarning,\n",
       "  'BytesWarning': BytesWarning,\n",
       "  'ResourceWarning': ResourceWarning,\n",
       "  'ConnectionError': ConnectionError,\n",
       "  'BlockingIOError': BlockingIOError,\n",
       "  'BrokenPipeError': BrokenPipeError,\n",
       "  'ChildProcessError': ChildProcessError,\n",
       "  'ConnectionAbortedError': ConnectionAbortedError,\n",
       "  'ConnectionRefusedError': ConnectionRefusedError,\n",
       "  'ConnectionResetError': ConnectionResetError,\n",
       "  'FileExistsError': FileExistsError,\n",
       "  'FileNotFoundError': FileNotFoundError,\n",
       "  'IsADirectoryError': IsADirectoryError,\n",
       "  'NotADirectoryError': NotADirectoryError,\n",
       "  'InterruptedError': InterruptedError,\n",
       "  'PermissionError': PermissionError,\n",
       "  'ProcessLookupError': ProcessLookupError,\n",
       "  'TimeoutError': TimeoutError,\n",
       "  'open': <function io.open(file, mode='r', buffering=-1, encoding=None, errors=None, newline=None, closefd=True, opener=None)>,\n",
       "  'copyright': Copyright (c) 2001-2021 Python Software Foundation.\n",
       "  All Rights Reserved.\n",
       "  \n",
       "  Copyright (c) 2000 BeOpen.com.\n",
       "  All Rights Reserved.\n",
       "  \n",
       "  Copyright (c) 1995-2001 Corporation for National Research Initiatives.\n",
       "  All Rights Reserved.\n",
       "  \n",
       "  Copyright (c) 1991-1995 Stichting Mathematisch Centrum, Amsterdam.\n",
       "  All Rights Reserved.,\n",
       "  'credits':     Thanks to CWI, CNRI, BeOpen.com, Zope Corporation and a cast of thousands\n",
       "      for supporting Python development.  See www.python.org for more information.,\n",
       "  'license': Type license() to see the full license text,\n",
       "  'help': Type help() for interactive help, or help(object) for help about object.,\n",
       "  'execfile': <function _pydev_imps._pydev_execfile.execfile(file, glob=None, loc=None)>,\n",
       "  'runfile': <function _pydev_bundle.pydev_umd.runfile(filename, args=None, wdir=None, namespace=None)>,\n",
       "  '__IPYTHON__': True,\n",
       "  'display': <function IPython.core.display.display(*objs, include=None, exclude=None, metadata=None, transient=None, display_id=None, **kwargs)>,\n",
       "  'get_ipython': <bound method InteractiveShell.get_ipython of <ipykernel.zmqshell.ZMQInteractiveShell object at 0x7f8a09804bb0>>},\n",
       " 'abc': <module 'abc' from '/Users/miro.tomasik/opt/anaconda3/envs/python_tap/lib/python3.9/abc.py'>,\n",
       " 'sys': <module 'sys' (built-in)>,\n",
       " 'st': <module 'stat' from '/Users/miro.tomasik/opt/anaconda3/envs/python_tap/lib/python3.9/stat.py'>,\n",
       " '_check_methods': <function collections.abc._check_methods(C, *methods)>,\n",
       " 'GenericAlias': types.GenericAlias,\n",
       " '__all__': ['altsep',\n",
       "  'curdir',\n",
       "  'pardir',\n",
       "  'sep',\n",
       "  'pathsep',\n",
       "  'linesep',\n",
       "  'defpath',\n",
       "  'name',\n",
       "  'path',\n",
       "  'devnull',\n",
       "  'SEEK_SET',\n",
       "  'SEEK_CUR',\n",
       "  'SEEK_END',\n",
       "  'fsencode',\n",
       "  'fsdecode',\n",
       "  'get_exec_path',\n",
       "  'fdopen',\n",
       "  'popen',\n",
       "  'extsep',\n",
       "  '_exit',\n",
       "  'CLD_CONTINUED',\n",
       "  'CLD_DUMPED',\n",
       "  'CLD_EXITED',\n",
       "  'CLD_KILLED',\n",
       "  'CLD_STOPPED',\n",
       "  'CLD_TRAPPED',\n",
       "  'DirEntry',\n",
       "  'EX_CANTCREAT',\n",
       "  'EX_CONFIG',\n",
       "  'EX_DATAERR',\n",
       "  'EX_IOERR',\n",
       "  'EX_NOHOST',\n",
       "  'EX_NOINPUT',\n",
       "  'EX_NOPERM',\n",
       "  'EX_NOUSER',\n",
       "  'EX_OK',\n",
       "  'EX_OSERR',\n",
       "  'EX_OSFILE',\n",
       "  'EX_PROTOCOL',\n",
       "  'EX_SOFTWARE',\n",
       "  'EX_TEMPFAIL',\n",
       "  'EX_UNAVAILABLE',\n",
       "  'EX_USAGE',\n",
       "  'F_LOCK',\n",
       "  'F_OK',\n",
       "  'F_TEST',\n",
       "  'F_TLOCK',\n",
       "  'F_ULOCK',\n",
       "  'NGROUPS_MAX',\n",
       "  'O_ACCMODE',\n",
       "  'O_APPEND',\n",
       "  'O_ASYNC',\n",
       "  'O_CLOEXEC',\n",
       "  'O_CREAT',\n",
       "  'O_DIRECTORY',\n",
       "  'O_DSYNC',\n",
       "  'O_EXCL',\n",
       "  'O_EXLOCK',\n",
       "  'O_NDELAY',\n",
       "  'O_NOCTTY',\n",
       "  'O_NOFOLLOW',\n",
       "  'O_NONBLOCK',\n",
       "  'O_RDONLY',\n",
       "  'O_RDWR',\n",
       "  'O_SHLOCK',\n",
       "  'O_SYNC',\n",
       "  'O_TRUNC',\n",
       "  'O_WRONLY',\n",
       "  'POSIX_SPAWN_CLOSE',\n",
       "  'POSIX_SPAWN_DUP2',\n",
       "  'POSIX_SPAWN_OPEN',\n",
       "  'PRIO_PGRP',\n",
       "  'PRIO_PROCESS',\n",
       "  'PRIO_USER',\n",
       "  'P_ALL',\n",
       "  'P_PGID',\n",
       "  'P_PID',\n",
       "  'RTLD_GLOBAL',\n",
       "  'RTLD_LAZY',\n",
       "  'RTLD_LOCAL',\n",
       "  'RTLD_NODELETE',\n",
       "  'RTLD_NOLOAD',\n",
       "  'RTLD_NOW',\n",
       "  'R_OK',\n",
       "  'SCHED_FIFO',\n",
       "  'SCHED_OTHER',\n",
       "  'SCHED_RR',\n",
       "  'ST_NOSUID',\n",
       "  'ST_RDONLY',\n",
       "  'TMP_MAX',\n",
       "  'WCONTINUED',\n",
       "  'WCOREDUMP',\n",
       "  'WEXITED',\n",
       "  'WEXITSTATUS',\n",
       "  'WIFCONTINUED',\n",
       "  'WIFEXITED',\n",
       "  'WIFSIGNALED',\n",
       "  'WIFSTOPPED',\n",
       "  'WNOHANG',\n",
       "  'WNOWAIT',\n",
       "  'WSTOPPED',\n",
       "  'WSTOPSIG',\n",
       "  'WTERMSIG',\n",
       "  'WUNTRACED',\n",
       "  'W_OK',\n",
       "  'X_OK',\n",
       "  'abort',\n",
       "  'access',\n",
       "  'chdir',\n",
       "  'chflags',\n",
       "  'chmod',\n",
       "  'chown',\n",
       "  'chroot',\n",
       "  'close',\n",
       "  'closerange',\n",
       "  'confstr',\n",
       "  'confstr_names',\n",
       "  'cpu_count',\n",
       "  'ctermid',\n",
       "  'device_encoding',\n",
       "  'dup',\n",
       "  'dup2',\n",
       "  'environ',\n",
       "  'error',\n",
       "  'execv',\n",
       "  'execve',\n",
       "  'fchdir',\n",
       "  'fchmod',\n",
       "  'fchown',\n",
       "  'fork',\n",
       "  'forkpty',\n",
       "  'fpathconf',\n",
       "  'fspath',\n",
       "  'fstat',\n",
       "  'fstatvfs',\n",
       "  'fsync',\n",
       "  'ftruncate',\n",
       "  'get_blocking',\n",
       "  'get_inheritable',\n",
       "  'get_terminal_size',\n",
       "  'getcwd',\n",
       "  'getcwdb',\n",
       "  'getegid',\n",
       "  'geteuid',\n",
       "  'getgid',\n",
       "  'getgrouplist',\n",
       "  'getgroups',\n",
       "  'getloadavg',\n",
       "  'getlogin',\n",
       "  'getpgid',\n",
       "  'getpgrp',\n",
       "  'getpid',\n",
       "  'getppid',\n",
       "  'getpriority',\n",
       "  'getsid',\n",
       "  'getuid',\n",
       "  'initgroups',\n",
       "  'isatty',\n",
       "  'kill',\n",
       "  'killpg',\n",
       "  'lchflags',\n",
       "  'lchmod',\n",
       "  'lchown',\n",
       "  'link',\n",
       "  'listdir',\n",
       "  'lockf',\n",
       "  'lseek',\n",
       "  'lstat',\n",
       "  'major',\n",
       "  'makedev',\n",
       "  'minor',\n",
       "  'mkdir',\n",
       "  'mkfifo',\n",
       "  'mknod',\n",
       "  'nice',\n",
       "  'open',\n",
       "  'openpty',\n",
       "  'pathconf',\n",
       "  'pathconf_names',\n",
       "  'pipe',\n",
       "  'posix_spawn',\n",
       "  'posix_spawnp',\n",
       "  'pread',\n",
       "  'putenv',\n",
       "  'pwrite',\n",
       "  'read',\n",
       "  'readlink',\n",
       "  'readv',\n",
       "  'register_at_fork',\n",
       "  'remove',\n",
       "  'rename',\n",
       "  'replace',\n",
       "  'rmdir',\n",
       "  'scandir',\n",
       "  'sched_get_priority_max',\n",
       "  'sched_get_priority_min',\n",
       "  'sched_yield',\n",
       "  'sendfile',\n",
       "  'set_blocking',\n",
       "  'set_inheritable',\n",
       "  'setegid',\n",
       "  'seteuid',\n",
       "  'setgid',\n",
       "  'setgroups',\n",
       "  'setpgid',\n",
       "  'setpgrp',\n",
       "  'setpriority',\n",
       "  'setregid',\n",
       "  'setreuid',\n",
       "  'setsid',\n",
       "  'setuid',\n",
       "  'stat',\n",
       "  'stat_result',\n",
       "  'statvfs',\n",
       "  'statvfs_result',\n",
       "  'strerror',\n",
       "  'symlink',\n",
       "  'sync',\n",
       "  'sysconf',\n",
       "  'sysconf_names',\n",
       "  'system',\n",
       "  'tcgetpgrp',\n",
       "  'tcsetpgrp',\n",
       "  'terminal_size',\n",
       "  'times',\n",
       "  'times_result',\n",
       "  'truncate',\n",
       "  'ttyname',\n",
       "  'umask',\n",
       "  'uname',\n",
       "  'uname_result',\n",
       "  'unlink',\n",
       "  'unsetenv',\n",
       "  'urandom',\n",
       "  'utime',\n",
       "  'wait',\n",
       "  'wait3',\n",
       "  'wait4',\n",
       "  'waitpid',\n",
       "  'waitstatus_to_exitcode',\n",
       "  'write',\n",
       "  'writev',\n",
       "  'makedirs',\n",
       "  'removedirs',\n",
       "  'renames',\n",
       "  'walk',\n",
       "  'fwalk',\n",
       "  'execl',\n",
       "  'execle',\n",
       "  'execlp',\n",
       "  'execlpe',\n",
       "  'execvp',\n",
       "  'execvpe',\n",
       "  'getenv',\n",
       "  'supports_bytes_environ',\n",
       "  'environb',\n",
       "  'getenvb',\n",
       "  'P_WAIT',\n",
       "  'P_NOWAIT',\n",
       "  'P_NOWAITO',\n",
       "  'spawnv',\n",
       "  'spawnve',\n",
       "  'spawnvp',\n",
       "  'spawnvpe',\n",
       "  'spawnl',\n",
       "  'spawnle',\n",
       "  'spawnlp',\n",
       "  'spawnlpe'],\n",
       " '_exists': <function os._exists(name)>,\n",
       " '_get_exports_list': <function os._get_exports_list(module)>,\n",
       " 'name': 'posix',\n",
       " 'linesep': '\\n',\n",
       " 'stat': <function posix.stat(path, *, dir_fd=None, follow_symlinks=True)>,\n",
       " 'access': <function posix.access(path, mode, *, dir_fd=None, effective_ids=False, follow_symlinks=True)>,\n",
       " 'ttyname': <function posix.ttyname(fd, /)>,\n",
       " 'chdir': <function posix.chdir(path)>,\n",
       " 'chflags': <function posix.chflags(path, flags, follow_symlinks=True)>,\n",
       " 'chmod': <function posix.chmod(path, mode, *, dir_fd=None, follow_symlinks=True)>,\n",
       " 'fchmod': <function posix.fchmod(fd, mode)>,\n",
       " 'lchmod': <function posix.lchmod(path, mode)>,\n",
       " 'chown': <function posix.chown(path, uid, gid, *, dir_fd=None, follow_symlinks=True)>,\n",
       " 'fchown': <function posix.fchown(fd, uid, gid)>,\n",
       " 'lchown': <function posix.lchown(path, uid, gid)>,\n",
       " 'lchflags': <function posix.lchflags(path, flags)>,\n",
       " 'chroot': <function posix.chroot(path)>,\n",
       " 'ctermid': <function posix.ctermid()>,\n",
       " 'getcwd': <function posix.getcwd()>,\n",
       " 'getcwdb': <function posix.getcwdb()>,\n",
       " 'link': <function posix.link(src, dst, *, src_dir_fd=None, dst_dir_fd=None, follow_symlinks=True)>,\n",
       " 'listdir': <function posix.listdir(path=None)>,\n",
       " 'lstat': <function posix.lstat(path, *, dir_fd=None)>,\n",
       " 'mkdir': <function posix.mkdir(path, mode=511, *, dir_fd=None)>,\n",
       " 'nice': <function posix.nice(increment, /)>,\n",
       " 'getpriority': <function posix.getpriority(which, who)>,\n",
       " 'setpriority': <function posix.setpriority(which, who, priority)>,\n",
       " 'posix_spawn': <function posix.posix_spawn>,\n",
       " 'posix_spawnp': <function posix.posix_spawnp>,\n",
       " 'readlink': <function posix.readlink(path, *, dir_fd=None)>,\n",
       " 'rename': <function posix.rename(src, dst, *, src_dir_fd=None, dst_dir_fd=None)>,\n",
       " 'replace': <function posix.replace(src, dst, *, src_dir_fd=None, dst_dir_fd=None)>,\n",
       " 'rmdir': <function posix.rmdir(path, *, dir_fd=None)>,\n",
       " 'symlink': <function posix.symlink(src, dst, target_is_directory=False, *, dir_fd=None)>,\n",
       " 'system': <function posix.system(command)>,\n",
       " 'umask': <function posix.umask(mask, /)>,\n",
       " 'uname': <function posix.uname()>,\n",
       " 'unlink': <function posix.unlink(path, *, dir_fd=None)>,\n",
       " 'remove': <function posix.remove(path, *, dir_fd=None)>,\n",
       " 'utime': <function posix.utime>,\n",
       " 'times': <function posix.times()>,\n",
       " 'execv': <function posix.execv(path, argv, /)>,\n",
       " 'execve': <function posix.execve(path, argv, env)>,\n",
       " 'fork': <function posix.fork()>,\n",
       " 'register_at_fork': <function posix.register_at_fork>,\n",
       " 'sched_get_priority_max': <function posix.sched_get_priority_max(policy)>,\n",
       " 'sched_get_priority_min': <function posix.sched_get_priority_min(policy)>,\n",
       " 'sched_yield': <function posix.sched_yield()>,\n",
       " 'openpty': <function posix.openpty()>,\n",
       " 'forkpty': <function posix.forkpty()>,\n",
       " 'getegid': <function posix.getegid()>,\n",
       " 'geteuid': <function posix.geteuid()>,\n",
       " 'getgid': <function posix.getgid()>,\n",
       " 'getgrouplist': <function posix.getgrouplist(user, group, /)>,\n",
       " 'getgroups': <function posix.getgroups()>,\n",
       " 'getpid': <function posix.getpid()>,\n",
       " 'getpgrp': <function posix.getpgrp()>,\n",
       " 'getppid': <function posix.getppid()>,\n",
       " 'getuid': <function posix.getuid()>,\n",
       " 'getlogin': <function posix.getlogin()>,\n",
       " 'kill': <function posix.kill(pid, signal, /)>,\n",
       " 'killpg': <function posix.killpg(pgid, signal, /)>,\n",
       " 'setuid': <function posix.setuid(uid, /)>,\n",
       " 'seteuid': <function posix.seteuid(euid, /)>,\n",
       " 'setreuid': <function posix.setreuid(ruid, euid, /)>,\n",
       " 'setgid': <function posix.setgid(gid, /)>,\n",
       " 'setegid': <function posix.setegid(egid, /)>,\n",
       " 'setregid': <function posix.setregid(rgid, egid, /)>,\n",
       " 'setgroups': <function posix.setgroups(groups, /)>,\n",
       " 'initgroups': <function posix.initgroups(username, gid, /)>,\n",
       " 'getpgid': <function posix.getpgid(pid)>,\n",
       " 'setpgrp': <function posix.setpgrp()>,\n",
       " 'wait': <function posix.wait()>,\n",
       " 'wait3': <function posix.wait3(options)>,\n",
       " 'wait4': <function posix.wait4(pid, options)>,\n",
       " 'waitpid': <function posix.waitpid(pid, options, /)>,\n",
       " 'getsid': <function posix.getsid(pid, /)>,\n",
       " 'setsid': <function posix.setsid()>,\n",
       " 'setpgid': <function posix.setpgid(pid, pgrp, /)>,\n",
       " 'tcgetpgrp': <function posix.tcgetpgrp(fd, /)>,\n",
       " 'tcsetpgrp': <function posix.tcsetpgrp(fd, pgid, /)>,\n",
       " 'open': <function posix.open(path, flags, mode=511, *, dir_fd=None)>,\n",
       " 'close': <function posix.close(fd)>,\n",
       " 'closerange': <function posix.closerange(fd_low, fd_high, /)>,\n",
       " 'device_encoding': <function posix.device_encoding(fd)>,\n",
       " 'dup': <function posix.dup(fd, /)>,\n",
       " 'dup2': <function posix.dup2(fd, fd2, inheritable=True)>,\n",
       " 'lockf': <function posix.lockf(fd, command, length, /)>,\n",
       " 'lseek': <function posix.lseek(fd, position, how, /)>,\n",
       " 'read': <function posix.read(fd, length, /)>,\n",
       " 'readv': <function posix.readv(fd, buffers, /)>,\n",
       " 'pread': <function posix.pread(fd, length, offset, /)>,\n",
       " 'write': <function posix.write(fd, data, /)>,\n",
       " 'writev': <function posix.writev(fd, buffers, /)>,\n",
       " 'pwrite': <function posix.pwrite(fd, buffer, offset, /)>,\n",
       " 'sendfile': <function posix.sendfile(out_fd, in_fd, offset, count, headers=(), trailers=(), flags=0)>,\n",
       " 'fstat': <function posix.fstat(fd)>,\n",
       " 'isatty': <function posix.isatty(fd, /)>,\n",
       " 'pipe': <function posix.pipe()>,\n",
       " 'mkfifo': <function posix.mkfifo(path, mode=438, *, dir_fd=None)>,\n",
       " 'mknod': <function posix.mknod(path, mode=384, device=0, *, dir_fd=None)>,\n",
       " 'major': <function posix.major(device, /)>,\n",
       " 'minor': <function posix.minor(device, /)>,\n",
       " 'makedev': <function posix.makedev(major, minor, /)>,\n",
       " 'ftruncate': <function posix.ftruncate(fd, length, /)>,\n",
       " 'truncate': <function posix.truncate(path, length)>,\n",
       " 'putenv': <function posix.putenv(name, value, /)>,\n",
       " 'unsetenv': <function posix.unsetenv(name, /)>,\n",
       " 'strerror': <function posix.strerror(code, /)>,\n",
       " 'fchdir': <function posix.fchdir(fd)>,\n",
       " 'fsync': <function posix.fsync(fd)>,\n",
       " 'sync': <function posix.sync()>,\n",
       " 'WCOREDUMP': <function posix.WCOREDUMP(status, /)>,\n",
       " 'WIFCONTINUED': <function posix.WIFCONTINUED(status)>,\n",
       " 'WIFSTOPPED': <function posix.WIFSTOPPED(status)>,\n",
       " 'WIFSIGNALED': <function posix.WIFSIGNALED(status)>,\n",
       " 'WIFEXITED': <function posix.WIFEXITED(status)>,\n",
       " 'WEXITSTATUS': <function posix.WEXITSTATUS(status)>,\n",
       " 'WTERMSIG': <function posix.WTERMSIG(status)>,\n",
       " 'WSTOPSIG': <function posix.WSTOPSIG(status)>,\n",
       " 'fstatvfs': <function posix.fstatvfs(fd, /)>,\n",
       " 'statvfs': <function posix.statvfs(path)>,\n",
       " 'confstr': <function posix.confstr(name, /)>,\n",
       " 'sysconf': <function posix.sysconf(name, /)>,\n",
       " 'fpathconf': <function posix.fpathconf(fd, name, /)>,\n",
       " 'pathconf': <function posix.pathconf(path, name)>,\n",
       " 'abort': <function posix.abort()>,\n",
       " 'getloadavg': <function posix.getloadavg()>,\n",
       " 'urandom': <function posix.urandom(size, /)>,\n",
       " 'get_terminal_size': <function posix.get_terminal_size>,\n",
       " 'cpu_count': <function posix.cpu_count()>,\n",
       " 'get_inheritable': <function posix.get_inheritable(fd, /)>,\n",
       " 'set_inheritable': <function posix.set_inheritable(fd, inheritable, /)>,\n",
       " 'get_blocking': <function posix.get_blocking(fd, /)>,\n",
       " 'set_blocking': <function posix.set_blocking(fd, blocking, /)>,\n",
       " 'scandir': <function posix.scandir(path=None)>,\n",
       " 'fspath': <function posix.fspath(path)>,\n",
       " 'waitstatus_to_exitcode': <function posix.waitstatus_to_exitcode(status)>,\n",
       " 'environ': environ{'TMPDIR': '/var/folders/l7/clq50_x97tldhz6_bff80ljm0000gn/T/',\n",
       "         '__CFBundleIdentifier': 'com.apple.Terminal',\n",
       "         'XPC_FLAGS': '0x0',\n",
       "         'TERM': 'xterm-color',\n",
       "         'SSH_AUTH_SOCK': '/private/tmp/com.apple.launchd.ltQLtmxysE/Listeners',\n",
       "         'XPC_SERVICE_NAME': '0',\n",
       "         'TERM_PROGRAM': 'Apple_Terminal',\n",
       "         'TERM_PROGRAM_VERSION': '440',\n",
       "         'TERM_SESSION_ID': 'D2386AD2-ACE9-446C-8699-EC0B851DD5A1',\n",
       "         'SHELL': '/bin/zsh',\n",
       "         'HOME': '/Users/miro.tomasik',\n",
       "         'LOGNAME': 'miro.tomasik',\n",
       "         'USER': 'miro.tomasik',\n",
       "         'PATH': '/Users/miro.tomasik/opt/anaconda3/envs/python_tap/bin:/Users/miro.tomasik/opt/anaconda3/condabin:/Users/miro.tomasik/goroot/bin:/opt/homebrew/bin:/Users/miro.tomasik/bin:/usr/local/bin:/usr/local/bin:/usr/bin:/bin:/usr/sbin:/sbin',\n",
       "         'SHLVL': '1',\n",
       "         'PWD': '/Users/miro.tomasik',\n",
       "         'OLDPWD': '/Users/miro.tomasik',\n",
       "         'ZSH': '/Users/miro.tomasik/.oh-my-zsh',\n",
       "         'PAGER': 'cat',\n",
       "         'LESS': '-R',\n",
       "         'LSCOLORS': 'Gxfxcxdxbxegedabagacad',\n",
       "         'CONDA_EXE': '/Users/miro.tomasik/opt/anaconda3/bin/conda',\n",
       "         '_CE_M': '',\n",
       "         '_CE_CONDA': '',\n",
       "         'CONDA_PYTHON_EXE': '/Users/miro.tomasik/opt/anaconda3/bin/python',\n",
       "         'CONDA_SHLVL': '2',\n",
       "         'CONDA_PREFIX': '/Users/miro.tomasik/opt/anaconda3/envs/python_tap',\n",
       "         'CONDA_DEFAULT_ENV': 'python_tap',\n",
       "         'CONDA_PROMPT_MODIFIER': '(python_tap) ',\n",
       "         'CONDA_PREFIX_1': '/Users/miro.tomasik/opt/anaconda3',\n",
       "         'LC_CTYPE': 'UTF-8',\n",
       "         '_': '/Users/miro.tomasik/opt/anaconda3/envs/python_tap/bin/jupyter',\n",
       "         '__CF_USER_TEXT_ENCODING': '0x1F5:0x0:0x0',\n",
       "         'PYDEVD_USE_FRAME_EVAL': 'NO',\n",
       "         'JPY_PARENT_PID': '53700',\n",
       "         'CLICOLOR': '1',\n",
       "         'GIT_PAGER': 'cat',\n",
       "         'MPLBACKEND': 'module://matplotlib_inline.backend_inline',\n",
       "         'NEWVAR': 'newvar'},\n",
       " 'F_OK': 0,\n",
       " 'R_OK': 4,\n",
       " 'W_OK': 2,\n",
       " 'X_OK': 1,\n",
       " 'NGROUPS_MAX': 16,\n",
       " 'TMP_MAX': 308915776,\n",
       " 'WCONTINUED': 16,\n",
       " 'WNOHANG': 1,\n",
       " 'WUNTRACED': 2,\n",
       " 'O_RDONLY': 0,\n",
       " 'O_WRONLY': 1,\n",
       " 'O_RDWR': 2,\n",
       " 'O_NDELAY': 4,\n",
       " 'O_NONBLOCK': 4,\n",
       " 'O_APPEND': 8,\n",
       " 'O_DSYNC': 4194304,\n",
       " 'O_SYNC': 128,\n",
       " 'O_NOCTTY': 131072,\n",
       " 'O_CREAT': 512,\n",
       " 'O_EXCL': 2048,\n",
       " 'O_TRUNC': 1024,\n",
       " 'O_SHLOCK': 16,\n",
       " 'O_EXLOCK': 32,\n",
       " 'PRIO_PROCESS': 0,\n",
       " 'PRIO_PGRP': 1,\n",
       " 'PRIO_USER': 2,\n",
       " 'O_CLOEXEC': 16777216,\n",
       " 'O_ACCMODE': 3,\n",
       " 'O_ASYNC': 64,\n",
       " 'O_DIRECTORY': 1048576,\n",
       " 'O_NOFOLLOW': 256,\n",
       " 'EX_OK': 0,\n",
       " 'EX_USAGE': 64,\n",
       " 'EX_DATAERR': 65,\n",
       " 'EX_NOINPUT': 66,\n",
       " 'EX_NOUSER': 67,\n",
       " 'EX_NOHOST': 68,\n",
       " 'EX_UNAVAILABLE': 69,\n",
       " 'EX_SOFTWARE': 70,\n",
       " 'EX_OSERR': 71,\n",
       " 'EX_OSFILE': 72,\n",
       " 'EX_CANTCREAT': 73,\n",
       " 'EX_IOERR': 74,\n",
       " 'EX_TEMPFAIL': 75,\n",
       " 'EX_PROTOCOL': 76,\n",
       " 'EX_NOPERM': 77,\n",
       " 'EX_CONFIG': 78,\n",
       " 'ST_RDONLY': 1,\n",
       " 'ST_NOSUID': 2,\n",
       " 'P_PID': 1,\n",
       " 'P_PGID': 2,\n",
       " 'P_ALL': 0,\n",
       " 'WEXITED': 4,\n",
       " 'WNOWAIT': 32,\n",
       " 'WSTOPPED': 8,\n",
       " 'CLD_EXITED': 1,\n",
       " 'CLD_KILLED': 2,\n",
       " 'CLD_DUMPED': 3,\n",
       " 'CLD_TRAPPED': 4,\n",
       " 'CLD_STOPPED': 5,\n",
       " 'CLD_CONTINUED': 6,\n",
       " 'F_LOCK': 1,\n",
       " 'F_TLOCK': 2,\n",
       " 'F_ULOCK': 0,\n",
       " 'F_TEST': 3,\n",
       " 'POSIX_SPAWN_OPEN': 0,\n",
       " 'POSIX_SPAWN_CLOSE': 1,\n",
       " 'POSIX_SPAWN_DUP2': 2,\n",
       " 'SCHED_OTHER': 1,\n",
       " 'SCHED_FIFO': 4,\n",
       " 'SCHED_RR': 2,\n",
       " 'RTLD_LAZY': 1,\n",
       " 'RTLD_NOW': 2,\n",
       " 'RTLD_GLOBAL': 8,\n",
       " 'RTLD_LOCAL': 4,\n",
       " 'RTLD_NODELETE': 128,\n",
       " 'RTLD_NOLOAD': 16,\n",
       " 'pathconf_names': {'PC_ALLOC_SIZE_MIN': 16,\n",
       "  'PC_ASYNC_IO': 17,\n",
       "  'PC_CHOWN_RESTRICTED': 7,\n",
       "  'PC_FILESIZEBITS': 18,\n",
       "  'PC_LINK_MAX': 1,\n",
       "  'PC_MAX_CANON': 2,\n",
       "  'PC_MAX_INPUT': 3,\n",
       "  'PC_NAME_MAX': 4,\n",
       "  'PC_NO_TRUNC': 8,\n",
       "  'PC_PATH_MAX': 5,\n",
       "  'PC_PIPE_BUF': 6,\n",
       "  'PC_PRIO_IO': 19,\n",
       "  'PC_REC_INCR_XFER_SIZE': 20,\n",
       "  'PC_REC_MAX_XFER_SIZE': 21,\n",
       "  'PC_REC_MIN_XFER_SIZE': 22,\n",
       "  'PC_REC_XFER_ALIGN': 23,\n",
       "  'PC_SYMLINK_MAX': 24,\n",
       "  'PC_SYNC_IO': 25,\n",
       "  'PC_VDISABLE': 9},\n",
       " 'confstr_names': {'CS_PATH': 1,\n",
       "  'CS_XBS5_ILP32_OFF32_CFLAGS': 20,\n",
       "  'CS_XBS5_ILP32_OFF32_LDFLAGS': 21,\n",
       "  'CS_XBS5_ILP32_OFF32_LIBS': 22,\n",
       "  'CS_XBS5_ILP32_OFF32_LINTFLAGS': 23,\n",
       "  'CS_XBS5_ILP32_OFFBIG_CFLAGS': 24,\n",
       "  'CS_XBS5_ILP32_OFFBIG_LDFLAGS': 25,\n",
       "  'CS_XBS5_ILP32_OFFBIG_LIBS': 26,\n",
       "  'CS_XBS5_ILP32_OFFBIG_LINTFLAGS': 27,\n",
       "  'CS_XBS5_LP64_OFF64_CFLAGS': 28,\n",
       "  'CS_XBS5_LP64_OFF64_LDFLAGS': 29,\n",
       "  'CS_XBS5_LP64_OFF64_LIBS': 30,\n",
       "  'CS_XBS5_LP64_OFF64_LINTFLAGS': 31,\n",
       "  'CS_XBS5_LPBIG_OFFBIG_CFLAGS': 32,\n",
       "  'CS_XBS5_LPBIG_OFFBIG_LDFLAGS': 33,\n",
       "  'CS_XBS5_LPBIG_OFFBIG_LIBS': 34,\n",
       "  'CS_XBS5_LPBIG_OFFBIG_LINTFLAGS': 35},\n",
       " 'sysconf_names': {'SC_2_CHAR_TERM': 20,\n",
       "  'SC_2_C_BIND': 18,\n",
       "  'SC_2_C_DEV': 19,\n",
       "  'SC_2_FORT_DEV': 21,\n",
       "  'SC_2_FORT_RUN': 22,\n",
       "  'SC_2_LOCALEDEF': 23,\n",
       "  'SC_2_SW_DEV': 24,\n",
       "  'SC_2_UPE': 25,\n",
       "  'SC_2_VERSION': 17,\n",
       "  'SC_AIO_LISTIO_MAX': 42,\n",
       "  'SC_AIO_MAX': 43,\n",
       "  'SC_AIO_PRIO_DELTA_MAX': 44,\n",
       "  'SC_ARG_MAX': 1,\n",
       "  'SC_ASYNCHRONOUS_IO': 28,\n",
       "  'SC_ATEXIT_MAX': 107,\n",
       "  'SC_BC_BASE_MAX': 9,\n",
       "  'SC_BC_DIM_MAX': 10,\n",
       "  'SC_BC_SCALE_MAX': 11,\n",
       "  'SC_BC_STRING_MAX': 12,\n",
       "  'SC_CHILD_MAX': 2,\n",
       "  'SC_CLK_TCK': 3,\n",
       "  'SC_COLL_WEIGHTS_MAX': 13,\n",
       "  'SC_DELAYTIMER_MAX': 45,\n",
       "  'SC_EXPR_NEST_MAX': 14,\n",
       "  'SC_FSYNC': 38,\n",
       "  'SC_GETGR_R_SIZE_MAX': 70,\n",
       "  'SC_GETPW_R_SIZE_MAX': 71,\n",
       "  'SC_IOV_MAX': 56,\n",
       "  'SC_JOB_CONTROL': 6,\n",
       "  'SC_LINE_MAX': 15,\n",
       "  'SC_LOGIN_NAME_MAX': 73,\n",
       "  'SC_MAPPED_FILES': 47,\n",
       "  'SC_MEMLOCK': 30,\n",
       "  'SC_MEMLOCK_RANGE': 31,\n",
       "  'SC_MEMORY_PROTECTION': 32,\n",
       "  'SC_MESSAGE_PASSING': 33,\n",
       "  'SC_MQ_OPEN_MAX': 46,\n",
       "  'SC_MQ_PRIO_MAX': 75,\n",
       "  'SC_NGROUPS_MAX': 4,\n",
       "  'SC_NPROCESSORS_CONF': 57,\n",
       "  'SC_NPROCESSORS_ONLN': 58,\n",
       "  'SC_OPEN_MAX': 5,\n",
       "  'SC_PAGESIZE': 29,\n",
       "  'SC_PAGE_SIZE': 29,\n",
       "  'SC_PASS_MAX': 131,\n",
       "  'SC_PRIORITIZED_IO': 34,\n",
       "  'SC_PRIORITY_SCHEDULING': 35,\n",
       "  'SC_REALTIME_SIGNALS': 36,\n",
       "  'SC_RE_DUP_MAX': 16,\n",
       "  'SC_RTSIG_MAX': 48,\n",
       "  'SC_SAVED_IDS': 7,\n",
       "  'SC_SEMAPHORES': 37,\n",
       "  'SC_SEM_NSEMS_MAX': 49,\n",
       "  'SC_SEM_VALUE_MAX': 50,\n",
       "  'SC_SHARED_MEMORY_OBJECTS': 39,\n",
       "  'SC_SIGQUEUE_MAX': 51,\n",
       "  'SC_STREAM_MAX': 26,\n",
       "  'SC_SYNCHRONIZED_IO': 40,\n",
       "  'SC_THREADS': 96,\n",
       "  'SC_THREAD_ATTR_STACKADDR': 82,\n",
       "  'SC_THREAD_ATTR_STACKSIZE': 83,\n",
       "  'SC_THREAD_DESTRUCTOR_ITERATIONS': 85,\n",
       "  'SC_THREAD_KEYS_MAX': 86,\n",
       "  'SC_THREAD_PRIORITY_SCHEDULING': 89,\n",
       "  'SC_THREAD_PRIO_INHERIT': 87,\n",
       "  'SC_THREAD_PRIO_PROTECT': 88,\n",
       "  'SC_THREAD_PROCESS_SHARED': 90,\n",
       "  'SC_THREAD_SAFE_FUNCTIONS': 91,\n",
       "  'SC_THREAD_STACK_MIN': 93,\n",
       "  'SC_THREAD_THREADS_MAX': 94,\n",
       "  'SC_TIMERS': 41,\n",
       "  'SC_TIMER_MAX': 52,\n",
       "  'SC_TTY_NAME_MAX': 101,\n",
       "  'SC_TZNAME_MAX': 27,\n",
       "  'SC_VERSION': 8,\n",
       "  'SC_XBS5_ILP32_OFF32': 122,\n",
       "  'SC_XBS5_ILP32_OFFBIG': 123,\n",
       "  'SC_XBS5_LP64_OFF64': 124,\n",
       "  'SC_XBS5_LPBIG_OFFBIG': 125,\n",
       "  'SC_XOPEN_CRYPT': 108,\n",
       "  'SC_XOPEN_ENH_I18N': 109,\n",
       "  'SC_XOPEN_LEGACY': 110,\n",
       "  'SC_XOPEN_REALTIME': 111,\n",
       "  'SC_XOPEN_REALTIME_THREADS': 112,\n",
       "  'SC_XOPEN_SHM': 113,\n",
       "  'SC_XOPEN_UNIX': 115,\n",
       "  'SC_XOPEN_VERSION': 116,\n",
       "  'SC_XOPEN_XCU_VERSION': 121},\n",
       " 'error': OSError,\n",
       " 'stat_result': os.stat_result,\n",
       " 'statvfs_result': os.statvfs_result,\n",
       " 'terminal_size': os.terminal_size,\n",
       " 'DirEntry': posix.DirEntry,\n",
       " 'times_result': posix.times_result,\n",
       " 'uname_result': posix.uname_result,\n",
       " '_exit': <function posix._exit(status)>,\n",
       " 'path': <module 'posixpath' from '/Users/miro.tomasik/opt/anaconda3/envs/python_tap/lib/python3.9/posixpath.py'>,\n",
       " 'curdir': '.',\n",
       " 'pardir': '..',\n",
       " 'sep': '/',\n",
       " 'pathsep': ':',\n",
       " 'defpath': '/bin:/usr/bin',\n",
       " 'extsep': '.',\n",
       " 'altsep': None,\n",
       " 'devnull': '/dev/null',\n",
       " 'supports_dir_fd': {<function posix.access(path, mode, *, dir_fd=None, effective_ids=False, follow_symlinks=True)>,\n",
       "  <function posix.chmod(path, mode, *, dir_fd=None, follow_symlinks=True)>,\n",
       "  <function posix.chown(path, uid, gid, *, dir_fd=None, follow_symlinks=True)>,\n",
       "  <function posix.link(src, dst, *, src_dir_fd=None, dst_dir_fd=None, follow_symlinks=True)>,\n",
       "  <function posix.mkdir(path, mode=511, *, dir_fd=None)>,\n",
       "  <function posix.open(path, flags, mode=511, *, dir_fd=None)>,\n",
       "  <function posix.readlink(path, *, dir_fd=None)>,\n",
       "  <function posix.rename(src, dst, *, src_dir_fd=None, dst_dir_fd=None)>,\n",
       "  <function posix.rmdir(path, *, dir_fd=None)>,\n",
       "  <function posix.stat(path, *, dir_fd=None, follow_symlinks=True)>,\n",
       "  <function posix.symlink(src, dst, target_is_directory=False, *, dir_fd=None)>,\n",
       "  <function posix.unlink(path, *, dir_fd=None)>},\n",
       " 'supports_effective_ids': {<function posix.access(path, mode, *, dir_fd=None, effective_ids=False, follow_symlinks=True)>},\n",
       " 'supports_fd': {<function posix.chdir(path)>,\n",
       "  <function posix.chmod(path, mode, *, dir_fd=None, follow_symlinks=True)>,\n",
       "  <function posix.chown(path, uid, gid, *, dir_fd=None, follow_symlinks=True)>,\n",
       "  <function posix.listdir(path=None)>,\n",
       "  <function posix.pathconf(path, name)>,\n",
       "  <function posix.scandir(path=None)>,\n",
       "  <function posix.stat(path, *, dir_fd=None, follow_symlinks=True)>,\n",
       "  <function posix.statvfs(path)>,\n",
       "  <function posix.truncate(path, length)>,\n",
       "  <function posix.utime>},\n",
       " 'supports_follow_symlinks': {<function posix.access(path, mode, *, dir_fd=None, effective_ids=False, follow_symlinks=True)>,\n",
       "  <function posix.chflags(path, flags, follow_symlinks=True)>,\n",
       "  <function posix.chmod(path, mode, *, dir_fd=None, follow_symlinks=True)>,\n",
       "  <function posix.chown(path, uid, gid, *, dir_fd=None, follow_symlinks=True)>,\n",
       "  <function posix.link(src, dst, *, src_dir_fd=None, dst_dir_fd=None, follow_symlinks=True)>,\n",
       "  <function posix.stat(path, *, dir_fd=None, follow_symlinks=True)>,\n",
       "  <function posix.utime>},\n",
       " 'SEEK_SET': 0,\n",
       " 'SEEK_CUR': 1,\n",
       " 'SEEK_END': 2,\n",
       " 'makedirs': <function os.makedirs(name, mode=511, exist_ok=False)>,\n",
       " 'removedirs': <function os.removedirs(name)>,\n",
       " 'renames': <function os.renames(old, new)>,\n",
       " 'walk': <function os.walk(top, topdown=True, onerror=None, followlinks=False)>,\n",
       " '_walk': <function os._walk(top, topdown, onerror, followlinks)>,\n",
       " 'fwalk': <function os.fwalk(top='.', topdown=True, onerror=None, *, follow_symlinks=False, dir_fd=None)>,\n",
       " '_fwalk': <function os._fwalk(topfd, toppath, isbytes, topdown, onerror, follow_symlinks)>,\n",
       " 'execl': <function os.execl(file, *args)>,\n",
       " 'execle': <function os.execle(file, *args)>,\n",
       " 'execlp': <function os.execlp(file, *args)>,\n",
       " 'execlpe': <function os.execlpe(file, *args)>,\n",
       " 'execvp': <function os.execvp(file, args)>,\n",
       " 'execvpe': <function os.execvpe(file, args, env)>,\n",
       " '_execvpe': <function os._execvpe(file, args, env=None)>,\n",
       " 'get_exec_path': <function os.get_exec_path(env=None)>,\n",
       " 'MutableMapping': collections.abc.MutableMapping,\n",
       " 'Mapping': collections.abc.Mapping,\n",
       " '_Environ': os._Environ,\n",
       " 'getenv': <function os.getenv(key, default=None)>,\n",
       " 'supports_bytes_environ': True,\n",
       " 'environb': environ{b'TMPDIR': b'/var/folders/l7/clq50_x97tldhz6_bff80ljm0000gn/T/',\n",
       "         b'__CFBundleIdentifier': b'com.apple.Terminal',\n",
       "         b'XPC_FLAGS': b'0x0',\n",
       "         b'TERM': b'xterm-color',\n",
       "         b'SSH_AUTH_SOCK': b'/private/tmp/com.apple.launchd.ltQLtmxysE/Listeners',\n",
       "         b'XPC_SERVICE_NAME': b'0',\n",
       "         b'TERM_PROGRAM': b'Apple_Terminal',\n",
       "         b'TERM_PROGRAM_VERSION': b'440',\n",
       "         b'TERM_SESSION_ID': b'D2386AD2-ACE9-446C-8699-EC0B851DD5A1',\n",
       "         b'SHELL': b'/bin/zsh',\n",
       "         b'HOME': b'/Users/miro.tomasik',\n",
       "         b'LOGNAME': b'miro.tomasik',\n",
       "         b'USER': b'miro.tomasik',\n",
       "         b'PATH': b'/Users/miro.tomasik/opt/anaconda3/envs/python_tap/bin:/Users/miro.tomasik/opt/anaconda3/condabin:/Users/miro.tomasik/goroot/bin:/opt/homebrew/bin:/Users/miro.tomasik/bin:/usr/local/bin:/usr/local/bin:/usr/bin:/bin:/usr/sbin:/sbin',\n",
       "         b'SHLVL': b'1',\n",
       "         b'PWD': b'/Users/miro.tomasik',\n",
       "         b'OLDPWD': b'/Users/miro.tomasik',\n",
       "         b'ZSH': b'/Users/miro.tomasik/.oh-my-zsh',\n",
       "         b'PAGER': b'cat',\n",
       "         b'LESS': b'-R',\n",
       "         b'LSCOLORS': b'Gxfxcxdxbxegedabagacad',\n",
       "         b'CONDA_EXE': b'/Users/miro.tomasik/opt/anaconda3/bin/conda',\n",
       "         b'_CE_M': b'',\n",
       "         b'_CE_CONDA': b'',\n",
       "         b'CONDA_PYTHON_EXE': b'/Users/miro.tomasik/opt/anaconda3/bin/python',\n",
       "         b'CONDA_SHLVL': b'2',\n",
       "         b'CONDA_PREFIX': b'/Users/miro.tomasik/opt/anaconda3/envs/python_tap',\n",
       "         b'CONDA_DEFAULT_ENV': b'python_tap',\n",
       "         b'CONDA_PROMPT_MODIFIER': b'(python_tap) ',\n",
       "         b'CONDA_PREFIX_1': b'/Users/miro.tomasik/opt/anaconda3',\n",
       "         b'LC_CTYPE': b'UTF-8',\n",
       "         b'_': b'/Users/miro.tomasik/opt/anaconda3/envs/python_tap/bin/jupyter',\n",
       "         b'__CF_USER_TEXT_ENCODING': b'0x1F5:0x0:0x0',\n",
       "         b'PYDEVD_USE_FRAME_EVAL': b'NO',\n",
       "         b'JPY_PARENT_PID': b'53700',\n",
       "         b'CLICOLOR': b'1',\n",
       "         b'GIT_PAGER': b'cat',\n",
       "         b'MPLBACKEND': b'module://matplotlib_inline.backend_inline',\n",
       "         b'NEWVAR': b'newvar'},\n",
       " 'getenvb': <function os.getenvb(key, default=None)>,\n",
       " 'fsencode': <function os._fscodec.<locals>.fsencode(filename)>,\n",
       " 'fsdecode': <function os._fscodec.<locals>.fsdecode(filename)>,\n",
       " 'P_WAIT': 0,\n",
       " 'P_NOWAIT': 1,\n",
       " 'P_NOWAITO': 1,\n",
       " '_spawnvef': <function os._spawnvef(mode, file, args, env, func)>,\n",
       " 'spawnv': <function os.spawnv(mode, file, args)>,\n",
       " 'spawnve': <function os.spawnve(mode, file, args, env)>,\n",
       " 'spawnvp': <function os.spawnvp(mode, file, args)>,\n",
       " 'spawnvpe': <function os.spawnvpe(mode, file, args, env)>,\n",
       " 'spawnl': <function os.spawnl(mode, file, *args)>,\n",
       " 'spawnle': <function os.spawnle(mode, file, *args)>,\n",
       " 'spawnlp': <function os.spawnlp(mode, file, *args)>,\n",
       " 'spawnlpe': <function os.spawnlpe(mode, file, *args)>,\n",
       " 'popen': <function os.popen(cmd, mode='r', buffering=-1)>,\n",
       " '_wrap_close': os._wrap_close,\n",
       " 'fdopen': <function os.fdopen(fd, *args, **kwargs)>,\n",
       " '_fspath': <function os._fspath(path)>,\n",
       " 'PathLike': os.PathLike}"
      ]
     },
     "execution_count": 59,
     "metadata": {},
     "output_type": "execute_result"
    }
   ],
   "source": [
    "os.__dict__"
   ]
  },
  {
   "cell_type": "code",
   "execution_count": 6,
   "id": "abd2c6d4",
   "metadata": {},
   "outputs": [
    {
     "data": {
      "text/plain": [
       "'/dev/tty'"
      ]
     },
     "execution_count": 6,
     "metadata": {},
     "output_type": "execute_result"
    }
   ],
   "source": [
    "# Return the filename corresponding to the controlling terminal of the process.\n",
    "os.ctermid()"
   ]
  },
  {
   "cell_type": "code",
   "execution_count": 8,
   "id": "275e786c",
   "metadata": {},
   "outputs": [
    {
     "data": {
      "text/plain": [
       "'/Users/miro.tomasik'"
      ]
     },
     "execution_count": 8,
     "metadata": {},
     "output_type": "execute_result"
    }
   ],
   "source": [
    "# A mapping object where keys and values are strings that represent the process environment.\n",
    "os.environ\n",
    "os.environ['HOME']"
   ]
  },
  {
   "cell_type": "code",
   "execution_count": 9,
   "id": "0654e2a2",
   "metadata": {},
   "outputs": [
    {
     "data": {
      "text/plain": [
       "'newvar'"
      ]
     },
     "execution_count": 9,
     "metadata": {},
     "output_type": "execute_result"
    }
   ],
   "source": [
    "os.environ['NEWVAR'] = 'newvar'\n",
    "os.environ['NEWVAR']"
   ]
  },
  {
   "cell_type": "code",
   "execution_count": 11,
   "id": "f7b35a88",
   "metadata": {},
   "outputs": [
    {
     "data": {
      "text/plain": [
       "'/Users/miro.tomasik'"
      ]
     },
     "execution_count": 11,
     "metadata": {},
     "output_type": "execute_result"
    }
   ],
   "source": [
    "os.getenv('HOME')"
   ]
  },
  {
   "cell_type": "code",
   "execution_count": 12,
   "id": "959f1e12",
   "metadata": {},
   "outputs": [
    {
     "data": {
      "text/plain": [
       "'posix'"
      ]
     },
     "execution_count": 12,
     "metadata": {},
     "output_type": "execute_result"
    }
   ],
   "source": [
    "# Gives the name of the imported operating system dependent module\n",
    "os.name"
   ]
  },
  {
   "cell_type": "code",
   "execution_count": 13,
   "id": "539f8371",
   "metadata": {},
   "outputs": [
    {
     "data": {
      "text/plain": [
       "'/Users/miro.tomasik/python_tap/thursday'"
      ]
     },
     "execution_count": 13,
     "metadata": {},
     "output_type": "execute_result"
    }
   ],
   "source": [
    "# location of the current working directory \n",
    "os.getcwd()"
   ]
  },
  {
   "cell_type": "code",
   "execution_count": 14,
   "id": "199c6efa",
   "metadata": {},
   "outputs": [
    {
     "data": {
      "text/plain": [
       "['decorators.ipynb',\n",
       " 'birthday.csv',\n",
       " 'OS.ipynb',\n",
       " 'xml.ipynb',\n",
       " 'newdir',\n",
       " 'lab.ipynb',\n",
       " 'employee_file.csv',\n",
       " 'sample.xml',\n",
       " 'json.ipynb',\n",
       " '.ipynb_checkpoints',\n",
       " 'employee_file2.csv',\n",
       " 'csv.ipynb']"
      ]
     },
     "execution_count": 14,
     "metadata": {},
     "output_type": "execute_result"
    }
   ],
   "source": [
    "# list of all the files and folders present in the current directory\n",
    "os.listdir()"
   ]
  },
  {
   "cell_type": "code",
   "execution_count": 15,
   "id": "ddb3794d",
   "metadata": {},
   "outputs": [],
   "source": [
    "os.mkdir('newdir')"
   ]
  },
  {
   "cell_type": "code",
   "execution_count": 16,
   "id": "63eb9ef7",
   "metadata": {},
   "outputs": [
    {
     "data": {
      "text/plain": [
       "['decorators.ipynb',\n",
       " 'birthday.csv',\n",
       " 'OS.ipynb',\n",
       " 'xml.ipynb',\n",
       " 'newdir',\n",
       " 'lab.ipynb',\n",
       " 'employee_file.csv',\n",
       " 'sample.xml',\n",
       " 'json.ipynb',\n",
       " '.ipynb_checkpoints',\n",
       " 'employee_file2.csv',\n",
       " 'csv.ipynb']"
      ]
     },
     "execution_count": 16,
     "metadata": {},
     "output_type": "execute_result"
    }
   ],
   "source": [
    "os.listdir()"
   ]
  },
  {
   "cell_type": "code",
   "execution_count": 17,
   "id": "ddd00657",
   "metadata": {},
   "outputs": [],
   "source": [
    "os.chdir('newdir')"
   ]
  },
  {
   "cell_type": "code",
   "execution_count": 18,
   "id": "a970cc46",
   "metadata": {},
   "outputs": [
    {
     "data": {
      "text/plain": [
       "'/Users/miro.tomasik/python_tap/thursday/newdir'"
      ]
     },
     "execution_count": 18,
     "metadata": {},
     "output_type": "execute_result"
    }
   ],
   "source": [
    "os.getcwd()"
   ]
  },
  {
   "cell_type": "code",
   "execution_count": 19,
   "id": "edf0b544",
   "metadata": {},
   "outputs": [
    {
     "ename": "FileNotFoundError",
     "evalue": "[Errno 2] No such file or directory: 'getting/error'",
     "output_type": "error",
     "traceback": [
      "\u001b[0;31m---------------------------------------------------------------------------\u001b[0m",
      "\u001b[0;31mFileNotFoundError\u001b[0m                         Traceback (most recent call last)",
      "\u001b[0;32m/var/folders/l7/clq50_x97tldhz6_bff80ljm0000gn/T/ipykernel_88048/2987490290.py\u001b[0m in \u001b[0;36m<module>\u001b[0;34m\u001b[0m\n\u001b[0;32m----> 1\u001b[0;31m \u001b[0mos\u001b[0m\u001b[0;34m.\u001b[0m\u001b[0mmkdir\u001b[0m\u001b[0;34m(\u001b[0m\u001b[0;34m'getting/error'\u001b[0m\u001b[0;34m)\u001b[0m\u001b[0;34m\u001b[0m\u001b[0;34m\u001b[0m\u001b[0m\n\u001b[0m",
      "\u001b[0;31mFileNotFoundError\u001b[0m: [Errno 2] No such file or directory: 'getting/error'"
     ]
    }
   ],
   "source": [
    "os.mkdir('getting/error')"
   ]
  },
  {
   "cell_type": "code",
   "execution_count": 20,
   "id": "99cc9019",
   "metadata": {},
   "outputs": [],
   "source": [
    "os.makedirs('another/one')"
   ]
  },
  {
   "cell_type": "code",
   "execution_count": null,
   "id": "32cbcced",
   "metadata": {},
   "outputs": [],
   "source": [
    "!touch filename"
   ]
  },
  {
   "cell_type": "code",
   "execution_count": null,
   "id": "48dd352e",
   "metadata": {},
   "outputs": [],
   "source": [
    "!ls"
   ]
  },
  {
   "cell_type": "code",
   "execution_count": 26,
   "id": "5ed1914f",
   "metadata": {},
   "outputs": [],
   "source": [
    "open('newff','w').close()"
   ]
  },
  {
   "cell_type": "code",
   "execution_count": 27,
   "id": "55fa4aa5",
   "metadata": {},
   "outputs": [
    {
     "name": "stdout",
     "output_type": "stream",
     "text": [
      "\u001b[01;34m.\u001b[0m\r\n",
      "├── \u001b[01;34manother\u001b[0m\r\n",
      "│   └── \u001b[01;34mone\u001b[0m\r\n",
      "├── \u001b[00mnewff\u001b[0m\r\n",
      "└── \u001b[00mnewfilde1\u001b[0m\r\n",
      "\r\n",
      "2 directories, 2 files\r\n"
     ]
    }
   ],
   "source": [
    "!tree"
   ]
  },
  {
   "cell_type": "code",
   "execution_count": 31,
   "id": "9b7e9342",
   "metadata": {},
   "outputs": [
    {
     "name": "stdout",
     "output_type": "stream",
     "text": [
      "['newff', 'newfilde1']\n",
      "[]\n",
      "[]\n"
     ]
    }
   ],
   "source": [
    "# os.walk creates generator\n",
    "for dirpath, dirnames, filenames in os.walk('.'):\n",
    "    print(filenames)"
   ]
  },
  {
   "cell_type": "code",
   "execution_count": 33,
   "id": "9488e036",
   "metadata": {},
   "outputs": [],
   "source": [
    "os.remove('newff')"
   ]
  },
  {
   "cell_type": "code",
   "execution_count": 34,
   "id": "743f8d74",
   "metadata": {},
   "outputs": [],
   "source": [
    "os.rmdir('another/one')"
   ]
  },
  {
   "cell_type": "code",
   "execution_count": 37,
   "id": "69b0ab29",
   "metadata": {},
   "outputs": [],
   "source": [
    "os.chdir('..')"
   ]
  },
  {
   "cell_type": "code",
   "execution_count": 38,
   "id": "62abc6e3",
   "metadata": {},
   "outputs": [
    {
     "data": {
      "text/plain": [
       "'/Users/miro.tomasik/python_tap/thursday'"
      ]
     },
     "execution_count": 38,
     "metadata": {},
     "output_type": "execute_result"
    }
   ],
   "source": [
    "os.getcwd()"
   ]
  },
  {
   "cell_type": "code",
   "execution_count": 40,
   "id": "7777fc96",
   "metadata": {},
   "outputs": [
    {
     "data": {
      "text/plain": [
       "'/Users/miro.tomasik/python_tap/thursday/books'"
      ]
     },
     "execution_count": 40,
     "metadata": {},
     "output_type": "execute_result"
    }
   ],
   "source": [
    "base_path = '/Users/miro.tomasik/python_tap/thursday/'\n",
    "new_path = os.path.join(base_path, 'books')\n",
    "new_path"
   ]
  },
  {
   "cell_type": "code",
   "execution_count": 41,
   "id": "a71773b0",
   "metadata": {},
   "outputs": [
    {
     "data": {
      "text/plain": [
       "'books'"
      ]
     },
     "execution_count": 41,
     "metadata": {},
     "output_type": "execute_result"
    }
   ],
   "source": [
    "os.path.basename(new_path)"
   ]
  },
  {
   "cell_type": "code",
   "execution_count": 42,
   "id": "9bfda25a",
   "metadata": {},
   "outputs": [
    {
     "data": {
      "text/plain": [
       "'/Users/miro.tomasik/python_tap/thursday'"
      ]
     },
     "execution_count": 42,
     "metadata": {},
     "output_type": "execute_result"
    }
   ],
   "source": [
    "os.path.dirname(new_path)"
   ]
  },
  {
   "cell_type": "code",
   "execution_count": 43,
   "id": "84e06b6e",
   "metadata": {},
   "outputs": [
    {
     "data": {
      "text/plain": [
       "('/Users/miro.tomasik/python_tap/thursday', 'books')"
      ]
     },
     "execution_count": 43,
     "metadata": {},
     "output_type": "execute_result"
    }
   ],
   "source": [
    "os.path.split(new_path)"
   ]
  },
  {
   "cell_type": "code",
   "execution_count": 46,
   "id": "d2681d34",
   "metadata": {},
   "outputs": [
    {
     "data": {
      "text/plain": [
       "1642058868.774315"
      ]
     },
     "execution_count": 46,
     "metadata": {},
     "output_type": "execute_result"
    }
   ],
   "source": [
    "# modification time\n",
    "os.path.getatime(base_path)"
   ]
  },
  {
   "cell_type": "code",
   "execution_count": 49,
   "id": "59978e66",
   "metadata": {},
   "outputs": [
    {
     "data": {
      "text/plain": [
       "'/Users/miro.tomasik/python_tap/thursday'"
      ]
     },
     "execution_count": 49,
     "metadata": {},
     "output_type": "execute_result"
    }
   ],
   "source": [
    "os.path.abspath('.') "
   ]
  },
  {
   "cell_type": "code",
   "execution_count": 51,
   "id": "6526b2c9",
   "metadata": {},
   "outputs": [
    {
     "data": {
      "text/plain": [
       "'.'"
      ]
     },
     "execution_count": 51,
     "metadata": {},
     "output_type": "execute_result"
    }
   ],
   "source": [
    "os.path.relpath('/Users/miro.tomasik/python_tap/thursday')"
   ]
  },
  {
   "cell_type": "code",
   "execution_count": 53,
   "id": "c41717c9",
   "metadata": {},
   "outputs": [
    {
     "data": {
      "text/plain": [
       "False"
      ]
     },
     "execution_count": 53,
     "metadata": {},
     "output_type": "execute_result"
    }
   ],
   "source": [
    "os.path.isfile('.') "
   ]
  },
  {
   "cell_type": "code",
   "execution_count": 54,
   "id": "7ca7cf11",
   "metadata": {},
   "outputs": [
    {
     "data": {
      "text/plain": [
       "True"
      ]
     },
     "execution_count": 54,
     "metadata": {},
     "output_type": "execute_result"
    }
   ],
   "source": [
    "os.path.isdir('.')"
   ]
  },
  {
   "cell_type": "code",
   "execution_count": null,
   "id": "4953be14",
   "metadata": {},
   "outputs": [],
   "source": [
    "os.path.isabs('.')"
   ]
  },
  {
   "cell_type": "code",
   "execution_count": null,
   "id": "318d0c1e",
   "metadata": {},
   "outputs": [],
   "source": [
    "os.path.exists(new_path)"
   ]
  },
  {
   "cell_type": "markdown",
   "id": "89ad8eb2",
   "metadata": {},
   "source": [
    "See https://www.analyticsvidhya.com/blog/2021/05/30-useful-methods-from-python-os-module/"
   ]
  }
 ],
 "metadata": {
  "kernelspec": {
   "display_name": "Python 3 (ipykernel)",
   "language": "python",
   "name": "python3"
  },
  "language_info": {
   "codemirror_mode": {
    "name": "ipython",
    "version": 3
   },
   "file_extension": ".py",
   "mimetype": "text/x-python",
   "name": "python",
   "nbconvert_exporter": "python",
   "pygments_lexer": "ipython3",
   "version": "3.9.7"
  }
 },
 "nbformat": 4,
 "nbformat_minor": 5
}
