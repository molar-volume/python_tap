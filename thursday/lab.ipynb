{
 "cells": [
  {
   "cell_type": "code",
   "execution_count": null,
   "id": "a5e95d6a",
   "metadata": {},
   "outputs": [],
   "source": [
    "num = int(input ('Enter integer to convert to Roman: '))\n",
    "from os import *\n",
    "\n",
    "class Solution:\n",
    "    def roman(self, num):\n",
    "        values = [1000, 900, 500, 400,100, 90, 50, 40,10, 9, 5, 4, 1]\n",
    "\n",
    "        symbols = [\"M\", \"CM\", \"D\", \"CD\",\"C\", \"XC\", \"L\", \"XL\",\n",
    "                \"X\", \"IX\", \"V\", \"IV\", \"I\"]\n",
    "        roman_dict = dict(zip(values, symbols))\n",
    "\n",
    "        roman_number = ''\n",
    "        value_index = 0\n",
    "\n",
    "        while  num > 0:\n",
    "            for _ in range(num // values[value_index]):\n",
    "                roman_number += symbols[value_index]\n",
    "                num -= values[value_index]\n",
    "            value_index += 1\n",
    "        return roman_number\n",
    "\n",
    "print(solution().roman(num))"
   ]
  },
  {
   "cell_type": "code",
   "execution_count": 1,
   "id": "8d0681f4",
   "metadata": {},
   "outputs": [],
   "source": [
    "\n",
    "vals = [1,2,3]\n",
    "roman = ['m','c','d']"
   ]
  },
  {
   "cell_type": "code",
   "execution_count": 2,
   "id": "4abdd5c8",
   "metadata": {},
   "outputs": [
    {
     "data": {
      "text/plain": [
       "<zip at 0x7fe5e9a3b900>"
      ]
     },
     "execution_count": 2,
     "metadata": {},
     "output_type": "execute_result"
    }
   ],
   "source": [
    "zip(vals, roman)"
   ]
  },
  {
   "cell_type": "code",
   "execution_count": 3,
   "id": "65146ef9",
   "metadata": {},
   "outputs": [
    {
     "name": "stdout",
     "output_type": "stream",
     "text": [
      "1 m\n",
      "2 c\n",
      "3 d\n"
     ]
    }
   ],
   "source": [
    "for v,r in zip(vals, roman):\n",
    "    print(v, r)"
   ]
  },
  {
   "cell_type": "code",
   "execution_count": 4,
   "id": "b39947d4",
   "metadata": {},
   "outputs": [
    {
     "data": {
      "text/plain": [
       "{1: 'm', 2: 'c', 3: 'd'}"
      ]
     },
     "execution_count": 4,
     "metadata": {},
     "output_type": "execute_result"
    }
   ],
   "source": [
    "dict(zip(vals,roman))"
   ]
  },
  {
   "cell_type": "code",
   "execution_count": 5,
   "id": "4324503e",
   "metadata": {},
   "outputs": [
    {
     "data": {
      "text/plain": [
       "[(1, 'm'), (2, 'c'), (3, 'd')]"
      ]
     },
     "execution_count": 5,
     "metadata": {},
     "output_type": "execute_result"
    }
   ],
   "source": [
    "list(zip(vals, roman))"
   ]
  },
  {
   "cell_type": "code",
   "execution_count": 7,
   "id": "a07adc34",
   "metadata": {},
   "outputs": [
    {
     "name": "stdout",
     "output_type": "stream",
     "text": [
      "Instance Created.\n",
      "15\n"
     ]
    }
   ],
   "source": [
    "import functools\n",
    "\n",
    "class Example:\n",
    "    def __init__(self):\n",
    "        print('Instance Created.')\n",
    "      \n",
    "    # Defining __call__ method\n",
    "    def __call__(self, list):\n",
    "        self.num_list = list\n",
    "        return functools.reduce(lambda a, b: a+b, self.num_list)\n",
    "\n",
    "# Instance created\n",
    "e = Example()\n",
    "  \n",
    "# __call__ method will be called\n",
    "sum = e([1,2,3,4,5])\n",
    "print(sum)"
   ]
  },
  {
   "cell_type": "code",
   "execution_count": null,
   "id": "cc72925e",
   "metadata": {},
   "outputs": [],
   "source": []
  }
 ],
 "metadata": {
  "kernelspec": {
   "display_name": "Python 3 (ipykernel)",
   "language": "python",
   "name": "python3"
  },
  "language_info": {
   "codemirror_mode": {
    "name": "ipython",
    "version": 3
   },
   "file_extension": ".py",
   "mimetype": "text/x-python",
   "name": "python",
   "nbconvert_exporter": "python",
   "pygments_lexer": "ipython3",
   "version": "3.9.7"
  }
 },
 "nbformat": 4,
 "nbformat_minor": 5
}
