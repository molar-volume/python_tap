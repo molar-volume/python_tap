{
 "cells": [
  {
   "cell_type": "markdown",
   "id": "ecf77069",
   "metadata": {},
   "source": [
    "Decorator adds new functionality to the existing code."
   ]
  },
  {
   "cell_type": "code",
   "execution_count": 1,
   "id": "52d7dc9f",
   "metadata": {},
   "outputs": [],
   "source": [
    "def addOne(myFunc):\n",
    "    def addOneInside(x):\n",
    "        print(\"adding One\")\n",
    "        # evaluate myFunc at x and add 1\n",
    "        return myFunc(x) + 1\n",
    "    # return value of addOne is function\n",
    "    return addOneInside"
   ]
  },
  {
   "cell_type": "code",
   "execution_count": 2,
   "id": "c6868c7a",
   "metadata": {},
   "outputs": [],
   "source": [
    "def subThree(x):\n",
    "    return x - 3"
   ]
  },
  {
   "cell_type": "code",
   "execution_count": 3,
   "id": "1cb4d2c1",
   "metadata": {},
   "outputs": [],
   "source": [
    "new_func = addOne(subThree)"
   ]
  },
  {
   "cell_type": "code",
   "execution_count": 4,
   "id": "104813cc",
   "metadata": {},
   "outputs": [
    {
     "data": {
      "text/plain": [
       "function"
      ]
     },
     "execution_count": 4,
     "metadata": {},
     "output_type": "execute_result"
    }
   ],
   "source": [
    "type(new_func)"
   ]
  },
  {
   "cell_type": "code",
   "execution_count": 5,
   "id": "2d0c2f96",
   "metadata": {},
   "outputs": [
    {
     "data": {
      "text/plain": [
       "2"
      ]
     },
     "execution_count": 5,
     "metadata": {},
     "output_type": "execute_result"
    }
   ],
   "source": [
    "subThree(5)"
   ]
  },
  {
   "cell_type": "code",
   "execution_count": 6,
   "id": "297d9e25",
   "metadata": {},
   "outputs": [
    {
     "name": "stdout",
     "output_type": "stream",
     "text": [
      "adding One\n"
     ]
    },
    {
     "data": {
      "text/plain": [
       "3"
      ]
     },
     "execution_count": 6,
     "metadata": {},
     "output_type": "execute_result"
    }
   ],
   "source": [
    "new_func(5)"
   ]
  },
  {
   "cell_type": "markdown",
   "id": "dc70306c",
   "metadata": {},
   "source": [
    "ANOTHER NICE WAY:"
   ]
  },
  {
   "cell_type": "code",
   "execution_count": 7,
   "id": "a9196248",
   "metadata": {},
   "outputs": [],
   "source": [
    "def printArguments(*args, **kwargs):\n",
    "    print(args[1])\n",
    "    print(kwargs['name_param'])"
   ]
  },
  {
   "cell_type": "code",
   "execution_count": 8,
   "id": "af07905a",
   "metadata": {},
   "outputs": [
    {
     "name": "stdout",
     "output_type": "stream",
     "text": [
      "2\n",
      "param\n"
     ]
    }
   ],
   "source": [
    "printArguments(1,2,'a', name_param='param', another_named_param='another one')"
   ]
  },
  {
   "cell_type": "code",
   "execution_count": 9,
   "id": "887120ea",
   "metadata": {},
   "outputs": [],
   "source": [
    "def addOne(myFunc):\n",
    "    def addOneInside(*args, **kwargs):\n",
    "        print(\"adding One\")\n",
    "        return myFunc(*args, **kwargs) + 1\n",
    "    return addOneInside"
   ]
  },
  {
   "cell_type": "code",
   "execution_count": 10,
   "id": "9364bff7",
   "metadata": {},
   "outputs": [],
   "source": [
    "def subThree(x):\n",
    "    return x - 3"
   ]
  },
  {
   "cell_type": "code",
   "execution_count": 11,
   "id": "a9673e3d",
   "metadata": {},
   "outputs": [],
   "source": [
    "subThree = addOne(subThree)"
   ]
  },
  {
   "cell_type": "code",
   "execution_count": 12,
   "id": "9c40efa5",
   "metadata": {},
   "outputs": [
    {
     "name": "stdout",
     "output_type": "stream",
     "text": [
      "adding One\n"
     ]
    },
    {
     "data": {
      "text/plain": [
       "3"
      ]
     },
     "execution_count": 12,
     "metadata": {},
     "output_type": "execute_result"
    }
   ],
   "source": [
    "subThree(5)"
   ]
  },
  {
   "cell_type": "code",
   "execution_count": 14,
   "id": "1c7ed275",
   "metadata": {},
   "outputs": [],
   "source": [
    "@addOne\n",
    "def subFour(x):\n",
    "    return x - 4"
   ]
  },
  {
   "cell_type": "code",
   "execution_count": 15,
   "id": "ccfd6ebf",
   "metadata": {},
   "outputs": [
    {
     "name": "stdout",
     "output_type": "stream",
     "text": [
      "adding One\n"
     ]
    },
    {
     "data": {
      "text/plain": [
       "2"
      ]
     },
     "execution_count": 15,
     "metadata": {},
     "output_type": "execute_result"
    }
   ],
   "source": [
    "subFour(5)"
   ]
  },
  {
   "cell_type": "code",
   "execution_count": null,
   "id": "a2362979",
   "metadata": {},
   "outputs": [],
   "source": [
    "subThree(5)"
   ]
  },
  {
   "cell_type": "markdown",
   "id": "80775e9c",
   "metadata": {},
   "source": [
    "Next Decorator takes a function as the input and print the name of the function and return the function."
   ]
  },
  {
   "cell_type": "code",
   "execution_count": 16,
   "id": "9ec1a6f7",
   "metadata": {},
   "outputs": [],
   "source": [
    "def printName(func):\n",
    "    # func is the function to be wrapped\n",
    "    def pn(*args, **kwargs):\n",
    "        print(func.__name__)\n",
    "        return func(*args, **kwargs)\n",
    "    return pn"
   ]
  },
  {
   "cell_type": "code",
   "execution_count": 17,
   "id": "22970d59",
   "metadata": {},
   "outputs": [],
   "source": [
    "@printName\n",
    "def add2Num(x, y):\n",
    "    # add two numbers\n",
    "    # print(\"add\")\n",
    "    return(x+y)"
   ]
  },
  {
   "cell_type": "code",
   "execution_count": 18,
   "id": "a67b3a00",
   "metadata": {},
   "outputs": [
    {
     "name": "stdout",
     "output_type": "stream",
     "text": [
      "add2Num\n"
     ]
    },
    {
     "data": {
      "text/plain": [
       "6"
      ]
     },
     "execution_count": 18,
     "metadata": {},
     "output_type": "execute_result"
    }
   ],
   "source": [
    "add2Num(2, 4)"
   ]
  },
  {
   "cell_type": "markdown",
   "id": "3b67fe5f",
   "metadata": {},
   "source": [
    "Suppose we need to pass an argument to a decorator.\n",
    "All we need is to write an outer function which takes the input arguments and then write the normal decorator inside that function."
   ]
  },
  {
   "cell_type": "code",
   "execution_count": 21,
   "id": "e33c6f63",
   "metadata": {},
   "outputs": [],
   "source": [
    "def printName(prefix=\"\"):\n",
    "    def addPrefix(func):\n",
    "        msg = prefix + func.__name__\n",
    "        def pn(*args, **kwargs):\n",
    "            print(msg)\n",
    "            return func(*args, **kwargs)\n",
    "        return pn\n",
    "    return addPrefix"
   ]
  },
  {
   "cell_type": "code",
   "execution_count": 23,
   "id": "90ab9afd",
   "metadata": {},
   "outputs": [],
   "source": [
    "@printName('some prefix ')\n",
    "def add2Num(x, y):\n",
    "    # add two numbers\n",
    "    # print(\"add\")\n",
    "    return(x+y)"
   ]
  },
  {
   "cell_type": "code",
   "execution_count": 24,
   "id": "726d7d24",
   "metadata": {},
   "outputs": [
    {
     "name": "stdout",
     "output_type": "stream",
     "text": [
      "some prefix add2Num\n"
     ]
    },
    {
     "data": {
      "text/plain": [
       "6"
      ]
     },
     "execution_count": 24,
     "metadata": {},
     "output_type": "execute_result"
    }
   ],
   "source": [
    "add2Num(2, 4)"
   ]
  },
  {
   "cell_type": "code",
   "execution_count": 25,
   "id": "af05ac19",
   "metadata": {},
   "outputs": [],
   "source": [
    "@printName\n",
    "def add2Num(x, y):\n",
    "    # add two numbers\n",
    "    # print(\"add\")\n",
    "    return(x+y)"
   ]
  },
  {
   "cell_type": "code",
   "execution_count": 26,
   "id": "9d211dee",
   "metadata": {},
   "outputs": [
    {
     "ename": "TypeError",
     "evalue": "addPrefix() takes 1 positional argument but 2 were given",
     "output_type": "error",
     "traceback": [
      "\u001b[0;31m---------------------------------------------------------------------------\u001b[0m",
      "\u001b[0;31mTypeError\u001b[0m                                 Traceback (most recent call last)",
      "\u001b[0;32m/var/folders/l7/clq50_x97tldhz6_bff80ljm0000gn/T/ipykernel_88941/3035357093.py\u001b[0m in \u001b[0;36m<module>\u001b[0;34m\u001b[0m\n\u001b[0;32m----> 1\u001b[0;31m \u001b[0madd2Num\u001b[0m\u001b[0;34m(\u001b[0m\u001b[0;36m1\u001b[0m\u001b[0;34m,\u001b[0m\u001b[0;36m2\u001b[0m\u001b[0;34m)\u001b[0m\u001b[0;34m\u001b[0m\u001b[0;34m\u001b[0m\u001b[0m\n\u001b[0m",
      "\u001b[0;31mTypeError\u001b[0m: addPrefix() takes 1 positional argument but 2 were given"
     ]
    }
   ],
   "source": [
    "add2Num(1,2)"
   ]
  },
  {
   "cell_type": "markdown",
   "id": "006d1548",
   "metadata": {},
   "source": [
    "But with the approach above, we get an error if we do not provide prefix.\n",
    "To fix it, we can leverage partial from functools."
   ]
  },
  {
   "cell_type": "code",
   "execution_count": 30,
   "id": "c912a0f4",
   "metadata": {},
   "outputs": [
    {
     "data": {
      "text/plain": [
       "10"
      ]
     },
     "execution_count": 30,
     "metadata": {},
     "output_type": "execute_result"
    }
   ],
   "source": [
    "from functools import partial\n",
    "\n",
    "def sum_of_three(a,b,c):\n",
    "    return a + b + c\n",
    "\n",
    "sum_of_three(1,2,3)\n",
    "\n",
    "sum_of_two = partial(sum_of_three, c=3)\n",
    "\n",
    "sum_of_two(3,4)"
   ]
  },
  {
   "cell_type": "code",
   "execution_count": 31,
   "id": "5ec2cc97",
   "metadata": {},
   "outputs": [],
   "source": [
    "from functools import partial\n",
    "\n",
    "def printName(func=None, *, prefix=\"\"):\n",
    "    if func is None:\n",
    "        return partial(printName, prefix=prefix)\n",
    "    def pn(*args, **kwargs):\n",
    "        print(prefix + func.__name__)\n",
    "        return func(*args, **kwargs)\n",
    "    return pn"
   ]
  },
  {
   "cell_type": "code",
   "execution_count": 33,
   "id": "77e060ef",
   "metadata": {},
   "outputs": [],
   "source": [
    "@printName\n",
    "def add2Num(x, y):\n",
    "    # add two numbers\n",
    "    # print(\"add\")\n",
    "    return(x+y)"
   ]
  },
  {
   "cell_type": "code",
   "execution_count": 34,
   "id": "ab15d564",
   "metadata": {},
   "outputs": [
    {
     "name": "stdout",
     "output_type": "stream",
     "text": [
      "add2Num\n"
     ]
    },
    {
     "data": {
      "text/plain": [
       "3"
      ]
     },
     "execution_count": 34,
     "metadata": {},
     "output_type": "execute_result"
    }
   ],
   "source": [
    "add2Num(1,2)"
   ]
  },
  {
   "cell_type": "code",
   "execution_count": 38,
   "id": "829b3d00",
   "metadata": {},
   "outputs": [],
   "source": [
    "@printName(prefix='some prefix ')\n",
    "def add2Num(x, y):\n",
    "    # add two numbers\n",
    "    # print(\"add\")\n",
    "    return(x+y)"
   ]
  },
  {
   "cell_type": "code",
   "execution_count": 39,
   "id": "9ba2abfe",
   "metadata": {},
   "outputs": [
    {
     "name": "stdout",
     "output_type": "stream",
     "text": [
      "some prefix add2Num\n"
     ]
    },
    {
     "data": {
      "text/plain": [
       "3"
      ]
     },
     "execution_count": 39,
     "metadata": {},
     "output_type": "execute_result"
    }
   ],
   "source": [
    "add2Num(1,2)"
   ]
  },
  {
   "cell_type": "code",
   "execution_count": null,
   "id": "4e4573c4",
   "metadata": {},
   "outputs": [],
   "source": []
  }
 ],
 "metadata": {
  "kernelspec": {
   "display_name": "Python 3 (ipykernel)",
   "language": "python",
   "name": "python3"
  },
  "language_info": {
   "codemirror_mode": {
    "name": "ipython",
    "version": 3
   },
   "file_extension": ".py",
   "mimetype": "text/x-python",
   "name": "python",
   "nbconvert_exporter": "python",
   "pygments_lexer": "ipython3",
   "version": "3.9.7"
  }
 },
 "nbformat": 4,
 "nbformat_minor": 5
}
