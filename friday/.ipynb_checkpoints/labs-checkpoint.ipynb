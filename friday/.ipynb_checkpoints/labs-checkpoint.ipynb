{
 "cells": [
  {
   "cell_type": "code",
   "execution_count": 1,
   "id": "c85f4ea4",
   "metadata": {},
   "outputs": [],
   "source": [
    "import random\n",
    "import csv"
   ]
  },
  {
   "cell_type": "code",
   "execution_count": 2,
   "id": "193b3892",
   "metadata": {},
   "outputs": [],
   "source": [
    "ls = []\n",
    "output_file = 't2.csv'"
   ]
  },
  {
   "cell_type": "code",
   "execution_count": 5,
   "id": "fe47d3cb",
   "metadata": {},
   "outputs": [
    {
     "name": "stdout",
     "output_type": "stream",
     "text": [
      "Randomly generated list of lists: \n",
      "\n",
      " [[0, 1, 2, 3, 4], [0, 1, 2, 3, 4, 5, 6], [0, 1, 2, 3, 4], [0, 1, 2, 3, 4, 5, 6], [0, 1, 2, 3, 4, 5, 6], [0, 1, 2, 3, 4], [0, 1, 2, 3, 4, 5, 6, 7, 8], [0, 1, 2, 3, 4, 5]] \n",
      "\n"
     ]
    }
   ],
   "source": [
    "def list_generation():\n",
    "#Generating list of lists with numbers in range from 5 to 10\n",
    "    for num in range(random.randrange(5,10)):\n",
    "        ls.append([])\n",
    "\n",
    "    for each in ls:\n",
    "        for num in range(random.randrange(5,10)):\n",
    "            each.append(num)\n",
    "\n",
    "    print(\"Randomly generated list of lists: \\n\\n\",ls,\"\\n\")\n",
    "list_generation()"
   ]
  },
  {
   "cell_type": "code",
   "execution_count": 9,
   "id": "239cd7e9",
   "metadata": {},
   "outputs": [
    {
     "name": "stdout",
     "output_type": "stream",
     "text": [
      "[[8, 5, 9, 6, 5, 9, 7, 9], [5, 8, 6, 5, 5, 9, 9, 5], [7, 9, 7, 8, 6, 8, 7, 5], [8, 8, 9, 9, 6, 8, 8, 6], [9, 5, 6, 8, 6, 9, 7, 7], [7, 9, 9, 5, 6, 8, 5, 9], [5, 5, 8, 6, 9, 8, 8, 6]]\n"
     ]
    }
   ],
   "source": [
    "def list_generation():\n",
    "    num_cols = random.randrange(5,10)\n",
    "    num_rows = random.randrange(5,10)\n",
    "    outer = []\n",
    "    for i in range(num_cols):\n",
    "        inner = []\n",
    "        for j in range(num_rows):\n",
    "            inner.append(random.randrange(5,10))\n",
    "        outer.append(inner)\n",
    "    print(outer)\n",
    "list_generation()"
   ]
  },
  {
   "cell_type": "code",
   "execution_count": 10,
   "id": "60fc23f8",
   "metadata": {},
   "outputs": [],
   "source": [
    "def list_to_csv():\n",
    "    ls_lenght = len(ls)\n",
    "    ls_header = []\n",
    "\n",
    "    for n in range(0, ls_lenght+1):\n",
    "        ls_num = \"List number \"+str(n)\n",
    "        ls_header.append(ls_num)\n",
    "\n",
    "    comp = list(zip(ls_header, ls))\n",
    "\n",
    "    with open(output_file, \"w\", newline=\"\\n\") as f:\n",
    "        writer = csv.writer(f)\n",
    "        writer.writerows(comp)\n",
    "list_to_csv()"
   ]
  },
  {
   "cell_type": "code",
   "execution_count": 12,
   "id": "2200e953",
   "metadata": {},
   "outputs": [
    {
     "name": "stdout",
     "output_type": "stream",
     "text": [
      "{'List number 0,\"[0, 1, 2, 3, 4]\"': 'List number 1,\"[0, 1, 2, 3, 4, 5, 6]\"'}\n",
      "{'List number 0,\"[0, 1, 2, 3, 4]\"': 'List number 2,\"[0, 1, 2, 3, 4]\"'}\n",
      "{'List number 0,\"[0, 1, 2, 3, 4]\"': 'List number 3,\"[0, 1, 2, 3, 4, 5, 6]\"'}\n",
      "{'List number 0,\"[0, 1, 2, 3, 4]\"': 'List number 4,\"[0, 1, 2, 3, 4, 5, 6]\"'}\n",
      "{'List number 0,\"[0, 1, 2, 3, 4]\"': 'List number 5,\"[0, 1, 2, 3, 4]\"'}\n",
      "{'List number 0,\"[0, 1, 2, 3, 4]\"': 'List number 6,\"[0, 1, 2, 3, 4, 5, 6, 7, 8]\"'}\n",
      "{'List number 0,\"[0, 1, 2, 3, 4]\"': 'List number 7,\"[0, 1, 2, 3, 4, 5]\"'}\n"
     ]
    }
   ],
   "source": [
    "#Here I tried to use the first column of the csv file for dictonary key, \n",
    "#but failed. Leaving to debug for later.\n",
    "\n",
    "def csv_to_dict():\n",
    "\n",
    "    with open(output_file, 'r') as o:\n",
    "        reader = csv.DictReader(o, delimiter=':', skipinitialspace=True)\n",
    "        for row in reader:\n",
    "            print(row)\n",
    "csv_to_dict()"
   ]
  },
  {
   "cell_type": "code",
   "execution_count": 13,
   "id": "45fdfb83",
   "metadata": {},
   "outputs": [],
   "source": [
    "# TASK 4"
   ]
  },
  {
   "cell_type": "code",
   "execution_count": 26,
   "id": "ae92a1bd",
   "metadata": {},
   "outputs": [],
   "source": [
    "myjson = '''\n",
    "[\n",
    "        {\n",
    "            \"id\": 11,\n",
    "            \"name\": \"ajax\",\n",
    "            \"subject\": \"OR\",\n",
    "            \"mark\": 63\n",
    "        },\n",
    "        {\n",
    "            \"id\": 12,\n",
    "            \"name\": \"javascript\",\n",
    "            \"subject\": \"OR\",\n",
    "            \"mark\": 63\n",
    "        },\n",
    "        {\n",
    "            \"id\": 13,\n",
    "            \"name\": \"jquery\",\n",
    "            \"subject\": \"OR\",\n",
    "            \"mark\": 63\n",
    "        },\n",
    "        {\n",
    "            \"id\": 14,\n",
    "            \"name\": \"ajax\",\n",
    "            \"subject\": \"OR\",\n",
    "            \"mark\": 63\n",
    "        }\n",
    "    ]\n",
    "'''"
   ]
  },
  {
   "cell_type": "code",
   "execution_count": 27,
   "id": "ef11b277",
   "metadata": {},
   "outputs": [
    {
     "data": {
      "text/plain": [
       "str"
      ]
     },
     "execution_count": 27,
     "metadata": {},
     "output_type": "execute_result"
    }
   ],
   "source": [
    "type(myjson)"
   ]
  },
  {
   "cell_type": "code",
   "execution_count": 28,
   "id": "89d2817e",
   "metadata": {},
   "outputs": [],
   "source": [
    "import json"
   ]
  },
  {
   "cell_type": "code",
   "execution_count": 29,
   "id": "9c5f35ac",
   "metadata": {},
   "outputs": [],
   "source": [
    "j = json.loads(myjson)"
   ]
  },
  {
   "cell_type": "code",
   "execution_count": 30,
   "id": "7986c2f4",
   "metadata": {},
   "outputs": [
    {
     "data": {
      "text/plain": [
       "list"
      ]
     },
     "execution_count": 30,
     "metadata": {},
     "output_type": "execute_result"
    }
   ],
   "source": [
    "type(j)"
   ]
  },
  {
   "cell_type": "code",
   "execution_count": 31,
   "id": "c2403a3f",
   "metadata": {},
   "outputs": [
    {
     "name": "stdout",
     "output_type": "stream",
     "text": [
      "[{'id': 11, 'name': 'ajax', 'subject': 'OR', 'mark': 63}, {'id': 12, 'name': 'javascript', 'subject': 'OR', 'mark': 63}, {'id': 13, 'name': 'jquery', 'subject': 'OR', 'mark': 63}, {'id': 14, 'name': 'ajax', 'subject': 'OR', 'mark': 63}]\n"
     ]
    }
   ],
   "source": [
    "print(j)"
   ]
  },
  {
   "cell_type": "code",
   "execution_count": 3,
   "id": "e1f4de0a",
   "metadata": {},
   "outputs": [],
   "source": [
    "filename = 'dbt_project.yml'\n",
    "s1 = \"target.name\"\n",
    "s2 = \"{{env('DBT_TARGET_DEV')}}\""
   ]
  },
  {
   "cell_type": "code",
   "execution_count": 5,
   "id": "f9643940",
   "metadata": {},
   "outputs": [
    {
     "data": {
      "text/plain": [
       "[1, 2, 3, 4]"
      ]
     },
     "execution_count": 5,
     "metadata": {},
     "output_type": "execute_result"
    }
   ],
   "source": [
    "l = [1,2,3]\n",
    "l.append(4)\n",
    "l"
   ]
  },
  {
   "cell_type": "code",
   "execution_count": 12,
   "id": "ad2d8196",
   "metadata": {},
   "outputs": [],
   "source": [
    "with open(filename, 'r') as r:\n",
    "    content = r.readlines()\n",
    "    cont_rev = content[::-1]\n",
    "    with open(filename, 'w') as w:\n",
    "        w.writelines(cont_rev)\n",
    "    \n"
   ]
  },
  {
   "cell_type": "code",
   "execution_count": 13,
   "id": "95d8b9ae",
   "metadata": {},
   "outputs": [],
   "source": [
    "\n",
    "\n",
    "import typing"
   ]
  },
  {
   "cell_type": "code",
   "execution_count": 25,
   "id": "b9fd5c1a",
   "metadata": {},
   "outputs": [],
   "source": [
    "from typing import List, Union"
   ]
  },
  {
   "cell_type": "code",
   "execution_count": 23,
   "id": "63d9214b",
   "metadata": {},
   "outputs": [],
   "source": [
    "def div(a, b):\n",
    "    return a // b"
   ]
  },
  {
   "cell_type": "code",
   "execution_count": 24,
   "id": "09ff016a",
   "metadata": {},
   "outputs": [
    {
     "data": {
      "text/plain": [
       "0"
      ]
     },
     "execution_count": 24,
     "metadata": {},
     "output_type": "execute_result"
    }
   ],
   "source": [
    "add(1,2)"
   ]
  },
  {
   "cell_type": "code",
   "execution_count": 26,
   "id": "bbfcc8b5",
   "metadata": {},
   "outputs": [],
   "source": [
    "def div(a: Union[int, float], b: Union[int, float]) -> Union[int, float]:\n",
    "    return a // b"
   ]
  },
  {
   "cell_type": "code",
   "execution_count": 27,
   "id": "f05b247f",
   "metadata": {},
   "outputs": [
    {
     "ename": "TypeError",
     "evalue": "unsupported operand type(s) for //: 'str' and 'str'",
     "output_type": "error",
     "traceback": [
      "\u001b[0;31m---------------------------------------------------------------------------\u001b[0m",
      "\u001b[0;31mTypeError\u001b[0m                                 Traceback (most recent call last)",
      "\u001b[0;32m/var/folders/l7/clq50_x97tldhz6_bff80ljm0000gn/T/ipykernel_12343/1993395150.py\u001b[0m in \u001b[0;36m<module>\u001b[0;34m\u001b[0m\n\u001b[0;32m----> 1\u001b[0;31m \u001b[0mdiv\u001b[0m\u001b[0;34m(\u001b[0m\u001b[0;34m'str'\u001b[0m\u001b[0;34m,\u001b[0m\u001b[0;34m'pow'\u001b[0m\u001b[0;34m)\u001b[0m\u001b[0;34m\u001b[0m\u001b[0;34m\u001b[0m\u001b[0m\n\u001b[0m",
      "\u001b[0;32m/var/folders/l7/clq50_x97tldhz6_bff80ljm0000gn/T/ipykernel_12343/1610091225.py\u001b[0m in \u001b[0;36mdiv\u001b[0;34m(a, b)\u001b[0m\n\u001b[1;32m      1\u001b[0m \u001b[0;32mdef\u001b[0m \u001b[0mdiv\u001b[0m\u001b[0;34m(\u001b[0m\u001b[0ma\u001b[0m\u001b[0;34m:\u001b[0m \u001b[0mUnion\u001b[0m\u001b[0;34m[\u001b[0m\u001b[0mint\u001b[0m\u001b[0;34m,\u001b[0m \u001b[0mfloat\u001b[0m\u001b[0;34m]\u001b[0m\u001b[0;34m,\u001b[0m \u001b[0mb\u001b[0m\u001b[0;34m:\u001b[0m \u001b[0mUnion\u001b[0m\u001b[0;34m[\u001b[0m\u001b[0mint\u001b[0m\u001b[0;34m,\u001b[0m \u001b[0mfloat\u001b[0m\u001b[0;34m]\u001b[0m\u001b[0;34m)\u001b[0m \u001b[0;34m->\u001b[0m \u001b[0mUnion\u001b[0m\u001b[0;34m[\u001b[0m\u001b[0mint\u001b[0m\u001b[0;34m,\u001b[0m \u001b[0mfloat\u001b[0m\u001b[0;34m]\u001b[0m\u001b[0;34m:\u001b[0m\u001b[0;34m\u001b[0m\u001b[0;34m\u001b[0m\u001b[0m\n\u001b[0;32m----> 2\u001b[0;31m     \u001b[0;32mreturn\u001b[0m \u001b[0ma\u001b[0m \u001b[0;34m//\u001b[0m \u001b[0mb\u001b[0m\u001b[0;34m\u001b[0m\u001b[0;34m\u001b[0m\u001b[0m\n\u001b[0m",
      "\u001b[0;31mTypeError\u001b[0m: unsupported operand type(s) for //: 'str' and 'str'"
     ]
    }
   ],
   "source": [
    "div('str','pow')"
   ]
  },
  {
   "cell_type": "code",
   "execution_count": 31,
   "id": "6a640293",
   "metadata": {},
   "outputs": [],
   "source": [
    "filter_dic = {'Test1': 40, 'Test2': 30}"
   ]
  },
  {
   "cell_type": "code",
   "execution_count": 29,
   "id": "c178b251",
   "metadata": {},
   "outputs": [],
   "source": [
    "def filter_func(d: dict, csv_file: str):\n",
    "    # todo filter modifies the csv_file on output\n",
    "    # filter out rows based on criteria given by dict\n",
    "    pass"
   ]
  },
  {
   "cell_type": "code",
   "execution_count": null,
   "id": "6bb92064",
   "metadata": {},
   "outputs": [],
   "source": []
  }
 ],
 "metadata": {
  "kernelspec": {
   "display_name": "Python 3 (ipykernel)",
   "language": "python",
   "name": "python3"
  },
  "language_info": {
   "codemirror_mode": {
    "name": "ipython",
    "version": 3
   },
   "file_extension": ".py",
   "mimetype": "text/x-python",
   "name": "python",
   "nbconvert_exporter": "python",
   "pygments_lexer": "ipython3",
   "version": "3.9.7"
  }
 },
 "nbformat": 4,
 "nbformat_minor": 5
}
