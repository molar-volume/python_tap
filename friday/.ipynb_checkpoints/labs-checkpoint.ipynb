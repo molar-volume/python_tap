{
 "cells": [
  {
   "cell_type": "code",
   "execution_count": null,
   "id": "c85f4ea4",
   "metadata": {},
   "outputs": [],
   "source": [
    "import random\n",
    "import csv"
   ]
  },
  {
   "cell_type": "code",
   "execution_count": null,
   "id": "193b3892",
   "metadata": {},
   "outputs": [],
   "source": [
    "ls = []\n",
    "output_file = 't2.csv'"
   ]
  },
  {
   "cell_type": "code",
   "execution_count": null,
   "id": "fe47d3cb",
   "metadata": {},
   "outputs": [],
   "source": [
    "def list_generation():\n",
    "#Generating list of lists with numbers in range from 5 to 10\n",
    "    for num in range(random.randrange(5,10)):\n",
    "        ls.append([])\n",
    "\n",
    "    for each in ls:\n",
    "        for num in range(random.randrange(5,10)):\n",
    "            each.append(num)\n",
    "\n",
    "    print(\"Randomly generated list of lists: \\n\\n\",ls,\"\\n\")\n",
    "list_generation()"
   ]
  },
  {
   "cell_type": "code",
   "execution_count": null,
   "id": "239cd7e9",
   "metadata": {},
   "outputs": [],
   "source": [
    "def list_generation():\n",
    "    num_cols = random.randrange(5,10)\n",
    "    num_rows = random.randrange(5,10)\n",
    "    outer = []\n",
    "    for i in range(num_cols):\n",
    "        inner = []\n",
    "        for j in range(num_rows):\n",
    "            inner.append(random.randrange(5,10))\n",
    "        outer.append(inner)\n",
    "    print(outer)\n",
    "list_generation()"
   ]
  },
  {
   "cell_type": "code",
   "execution_count": null,
   "id": "60fc23f8",
   "metadata": {},
   "outputs": [],
   "source": [
    "def list_to_csv():\n",
    "    ls_lenght = len(ls)\n",
    "    ls_header = []\n",
    "\n",
    "    for n in range(0, ls_lenght+1):\n",
    "        ls_num = \"List number \"+str(n)\n",
    "        ls_header.append(ls_num)\n",
    "\n",
    "    comp = list(zip(ls_header, ls))\n",
    "\n",
    "    with open(output_file, \"w\", newline=\"\\n\") as f:\n",
    "        writer = csv.writer(f)\n",
    "        writer.writerows(comp)\n",
    "list_to_csv()"
   ]
  },
  {
   "cell_type": "code",
   "execution_count": null,
   "id": "2200e953",
   "metadata": {},
   "outputs": [],
   "source": [
    "#Here I tried to use the first column of the csv file for dictonary key, \n",
    "#but failed. Leaving to debug for later.\n",
    "\n",
    "def csv_to_dict():\n",
    "\n",
    "    with open(output_file, 'r') as o:\n",
    "        reader = csv.DictReader(o, delimiter=':', skipinitialspace=True)\n",
    "        for row in reader:\n",
    "            print(row)\n",
    "csv_to_dict()"
   ]
  },
  {
   "cell_type": "code",
   "execution_count": null,
   "id": "45fdfb83",
   "metadata": {},
   "outputs": [],
   "source": [
    "# TASK 4"
   ]
  },
  {
   "cell_type": "code",
   "execution_count": 35,
   "id": "ae92a1bd",
   "metadata": {},
   "outputs": [],
   "source": [
    "myjson = '''\n",
    "[\n",
    "        {\n",
    "            \"id\": 11,\n",
    "            \"name\": \"ajax\",\n",
    "            \"subject\": \"OR\",\n",
    "            \"mark\": 63\n",
    "        },\n",
    "        {\n",
    "            \"id\": 12,\n",
    "            \"name\": \"javascript\",\n",
    "            \"subject\": \"OR\",\n",
    "            \"mark\": 63\n",
    "        },\n",
    "        {\n",
    "            \"id\": 13,\n",
    "            \"name\": \"jquery\",\n",
    "            \"subject\": \"OR\",\n",
    "            \"mark\": 63\n",
    "        },\n",
    "        {\n",
    "            \"id\": 14,\n",
    "            \"name\": \"ajax\",\n",
    "            \"subject\": \"OR\",\n",
    "            \"mark\": 63\n",
    "        }\n",
    "    ]\n",
    "'''"
   ]
  },
  {
   "cell_type": "code",
   "execution_count": 36,
   "id": "ef11b277",
   "metadata": {},
   "outputs": [
    {
     "data": {
      "text/plain": [
       "str"
      ]
     },
     "execution_count": 36,
     "metadata": {},
     "output_type": "execute_result"
    }
   ],
   "source": [
    "type(myjson)"
   ]
  },
  {
   "cell_type": "code",
   "execution_count": 37,
   "id": "89d2817e",
   "metadata": {},
   "outputs": [],
   "source": [
    "import json"
   ]
  },
  {
   "cell_type": "code",
   "execution_count": 38,
   "id": "9c5f35ac",
   "metadata": {},
   "outputs": [],
   "source": [
    "j = json.loads(myjson)"
   ]
  },
  {
   "cell_type": "code",
   "execution_count": 39,
   "id": "7986c2f4",
   "metadata": {},
   "outputs": [
    {
     "data": {
      "text/plain": [
       "list"
      ]
     },
     "execution_count": 39,
     "metadata": {},
     "output_type": "execute_result"
    }
   ],
   "source": [
    "type(j)"
   ]
  },
  {
   "cell_type": "code",
   "execution_count": 40,
   "id": "c2403a3f",
   "metadata": {},
   "outputs": [
    {
     "name": "stdout",
     "output_type": "stream",
     "text": [
      "[{'id': 11, 'name': 'ajax', 'subject': 'OR', 'mark': 63}, {'id': 12, 'name': 'javascript', 'subject': 'OR', 'mark': 63}, {'id': 13, 'name': 'jquery', 'subject': 'OR', 'mark': 63}, {'id': 14, 'name': 'ajax', 'subject': 'OR', 'mark': 63}]\n"
     ]
    }
   ],
   "source": [
    "print(j)"
   ]
  },
  {
   "cell_type": "code",
   "execution_count": 41,
   "id": "d46c70f5",
   "metadata": {},
   "outputs": [
    {
     "data": {
      "text/plain": [
       "[{'id': 14, 'name': 'ajax', 'subject': 'OR', 'mark': 63},\n",
       " {'id': 13, 'name': 'jquery', 'subject': 'OR', 'mark': 63},\n",
       " {'id': 12, 'name': 'javascript', 'subject': 'OR', 'mark': 63}]"
      ]
     },
     "execution_count": 41,
     "metadata": {},
     "output_type": "execute_result"
    }
   ],
   "source": [
    "names = set()\n",
    "unique_list = []\n",
    "for e in reversed(j):\n",
    "    if e['name'] not in names:\n",
    "        names.add(e['name'])\n",
    "        unique_list.append(e)\n",
    "unique_list"
   ]
  },
  {
   "cell_type": "code",
   "execution_count": null,
   "id": "a0a5ab66",
   "metadata": {},
   "outputs": [],
   "source": [
    "filename = 'dbt_project.yml'\n",
    "s1 = \"target.name\"\n",
    "s2 = \"{{env('DBT_TARGET_DEV')}}\""
   ]
  },
  {
   "cell_type": "code",
   "execution_count": null,
   "id": "bbc7ba61",
   "metadata": {},
   "outputs": [],
   "source": [
    "l = [1,2,3]\n",
    "l.append(4)\n",
    "l"
   ]
  },
  {
   "cell_type": "code",
   "execution_count": null,
   "id": "ad2d8196",
   "metadata": {},
   "outputs": [],
   "source": [
    "with open(filename, 'r') as r:\n",
    "    content = r.readlines()\n",
    "    cont_rev = content[::-1]\n",
    "    with open(filename, 'w') as w:\n",
    "        w.writelines(cont_rev)\n",
    "    \n"
   ]
  },
  {
   "cell_type": "code",
   "execution_count": null,
   "id": "671fc5b1",
   "metadata": {},
   "outputs": [],
   "source": [
    "\n",
    "\n",
    "import typing"
   ]
  },
  {
   "cell_type": "code",
   "execution_count": null,
   "id": "2c6a75b0",
   "metadata": {},
   "outputs": [],
   "source": [
    "from typing import List, Union"
   ]
  },
  {
   "cell_type": "code",
   "execution_count": null,
   "id": "7e7c56bf",
   "metadata": {},
   "outputs": [],
   "source": [
    "def div(a, b):\n",
    "    return a // b"
   ]
  },
  {
   "cell_type": "code",
   "execution_count": null,
   "id": "1f8585f8",
   "metadata": {},
   "outputs": [],
   "source": [
    "add(1,2)"
   ]
  },
  {
   "cell_type": "code",
   "execution_count": null,
   "id": "2f889ca9",
   "metadata": {},
   "outputs": [],
   "source": [
    "def div(a: Union[int, float], b: Union[int, float]) -> Union[int, float]:\n",
    "    return a // b"
   ]
  },
  {
   "cell_type": "code",
   "execution_count": null,
   "id": "9a932036",
   "metadata": {},
   "outputs": [],
   "source": [
    "div('str','pow')"
   ]
  },
  {
   "cell_type": "code",
   "execution_count": 22,
   "id": "c57496de",
   "metadata": {},
   "outputs": [],
   "source": [
    "filter_dic = {'Test1': 40, 'Test2': 30}"
   ]
  },
  {
   "cell_type": "code",
   "execution_count": 25,
   "id": "09ef7895",
   "metadata": {},
   "outputs": [],
   "source": [
    "def func(filt: dict, row: dict):\n",
    "    for key in filt:\n",
    "        if float(row[key]) < float(filt[key]):\n",
    "            return False\n",
    "    return True"
   ]
  },
  {
   "cell_type": "code",
   "execution_count": 33,
   "id": "0823c999",
   "metadata": {},
   "outputs": [],
   "source": [
    "def filter_func(filt: dict, csv_file: str):\n",
    "    with open(csv_file, 'r') as f:\n",
    "        dc = csv.DictReader(f, skipinitialspace=True)\n",
    "        filtered_output = [row for row in dc if func(filt, row)]\n",
    "        print(filtered_output)\n",
    "        \n",
    "    # todo filter modifies the csv_file on output\n",
    "    # filter out rows based on criteria given by dict"
   ]
  },
  {
   "cell_type": "code",
   "execution_count": 34,
   "id": "4ccd22a8",
   "metadata": {},
   "outputs": [
    {
     "name": "stdout",
     "output_type": "stream",
     "text": [
      "[{'Last name': 'Alfalfa', 'First name': 'Aloysius', 'SSN': '123-45-6789', 'Test1': '40.0', 'Test2': '90.0', 'Test3': '100.0', 'Test4': '83.0', 'Final': '49.0', 'Grade': 'D-'}, {'Last name': 'Alfred', 'First name': 'University', 'SSN': '123-12-1234', 'Test1': '41.0', 'Test2': '97.0', 'Test3': '96.0', 'Test4': '97.0', 'Final': '48.0', 'Grade': 'D+'}, {'Last name': 'Gerty', 'First name': 'Gramma', 'SSN': '567-89-0123', 'Test1': '41.0', 'Test2': '80.0', 'Test3': '60.0', 'Test4': '40.0', 'Final': '44.0', 'Grade': 'C'}, {'Last name': 'Bumpkin', 'First name': 'Fred', 'SSN': '456-78-9012', 'Test1': '43.0', 'Test2': '78.0', 'Test3': '88.0', 'Test4': '77.0', 'Final': '45.0', 'Grade': 'A-'}, {'Last name': 'Rubble', 'First name': 'Betty', 'SSN': '234-56-7890', 'Test1': '44.0', 'Test2': '90.0', 'Test3': '80.0', 'Test4': '90.0', 'Final': '46.0', 'Grade': 'C-'}]\n"
     ]
    }
   ],
   "source": [
    "filter_func(filter_dic, 'grades.csv')"
   ]
  },
  {
   "cell_type": "code",
   "execution_count": null,
   "id": "fbd8904f",
   "metadata": {},
   "outputs": [],
   "source": []
  }
 ],
 "metadata": {
  "kernelspec": {
   "display_name": "Python 3 (ipykernel)",
   "language": "python",
   "name": "python3"
  },
  "language_info": {
   "codemirror_mode": {
    "name": "ipython",
    "version": 3
   },
   "file_extension": ".py",
   "mimetype": "text/x-python",
   "name": "python",
   "nbconvert_exporter": "python",
   "pygments_lexer": "ipython3",
   "version": "3.9.7"
  }
 },
 "nbformat": 4,
 "nbformat_minor": 5
}
