{
 "cells": [
  {
   "cell_type": "code",
   "execution_count": 1,
   "id": "c85f4ea4",
   "metadata": {},
   "outputs": [],
   "source": [
    "import random\n",
    "import csv"
   ]
  },
  {
   "cell_type": "code",
   "execution_count": 2,
   "id": "193b3892",
   "metadata": {},
   "outputs": [],
   "source": [
    "ls = []\n",
    "output_file = 't2.csv'"
   ]
  },
  {
   "cell_type": "code",
   "execution_count": 5,
   "id": "fe47d3cb",
   "metadata": {},
   "outputs": [
    {
     "name": "stdout",
     "output_type": "stream",
     "text": [
      "Randomly generated list of lists: \n",
      "\n",
      " [[0, 1, 2, 3, 4], [0, 1, 2, 3, 4, 5, 6], [0, 1, 2, 3, 4], [0, 1, 2, 3, 4, 5, 6], [0, 1, 2, 3, 4, 5, 6], [0, 1, 2, 3, 4], [0, 1, 2, 3, 4, 5, 6, 7, 8], [0, 1, 2, 3, 4, 5]] \n",
      "\n"
     ]
    }
   ],
   "source": [
    "def list_generation():\n",
    "#Generating list of lists with numbers in range from 5 to 10\n",
    "    for num in range(random.randrange(5,10)):\n",
    "        ls.append([])\n",
    "\n",
    "    for each in ls:\n",
    "        for num in range(random.randrange(5,10)):\n",
    "            each.append(num)\n",
    "\n",
    "    print(\"Randomly generated list of lists: \\n\\n\",ls,\"\\n\")\n",
    "list_generation()"
   ]
  },
  {
   "cell_type": "code",
   "execution_count": 9,
   "id": "239cd7e9",
   "metadata": {},
   "outputs": [
    {
     "name": "stdout",
     "output_type": "stream",
     "text": [
      "[[8, 5, 9, 6, 5, 9, 7, 9], [5, 8, 6, 5, 5, 9, 9, 5], [7, 9, 7, 8, 6, 8, 7, 5], [8, 8, 9, 9, 6, 8, 8, 6], [9, 5, 6, 8, 6, 9, 7, 7], [7, 9, 9, 5, 6, 8, 5, 9], [5, 5, 8, 6, 9, 8, 8, 6]]\n"
     ]
    }
   ],
   "source": [
    "def list_generation():\n",
    "    num_cols = random.randrange(5,10)\n",
    "    num_rows = random.randrange(5,10)\n",
    "    outer = []\n",
    "    for i in range(num_cols):\n",
    "        inner = []\n",
    "        for j in range(num_rows):\n",
    "            inner.append(random.randrange(5,10))\n",
    "        outer.append(inner)\n",
    "    print(outer)\n",
    "list_generation()"
   ]
  },
  {
   "cell_type": "code",
   "execution_count": 10,
   "id": "60fc23f8",
   "metadata": {},
   "outputs": [],
   "source": [
    "def list_to_csv():\n",
    "    ls_lenght = len(ls)\n",
    "    ls_header = []\n",
    "\n",
    "    for n in range(0, ls_lenght+1):\n",
    "        ls_num = \"List number \"+str(n)\n",
    "        ls_header.append(ls_num)\n",
    "\n",
    "    comp = list(zip(ls_header, ls))\n",
    "\n",
    "    with open(output_file, \"w\", newline=\"\\n\") as f:\n",
    "        writer = csv.writer(f)\n",
    "        writer.writerows(comp)\n",
    "list_to_csv()"
   ]
  },
  {
   "cell_type": "code",
   "execution_count": 12,
   "id": "2200e953",
   "metadata": {},
   "outputs": [
    {
     "name": "stdout",
     "output_type": "stream",
     "text": [
      "{'List number 0,\"[0, 1, 2, 3, 4]\"': 'List number 1,\"[0, 1, 2, 3, 4, 5, 6]\"'}\n",
      "{'List number 0,\"[0, 1, 2, 3, 4]\"': 'List number 2,\"[0, 1, 2, 3, 4]\"'}\n",
      "{'List number 0,\"[0, 1, 2, 3, 4]\"': 'List number 3,\"[0, 1, 2, 3, 4, 5, 6]\"'}\n",
      "{'List number 0,\"[0, 1, 2, 3, 4]\"': 'List number 4,\"[0, 1, 2, 3, 4, 5, 6]\"'}\n",
      "{'List number 0,\"[0, 1, 2, 3, 4]\"': 'List number 5,\"[0, 1, 2, 3, 4]\"'}\n",
      "{'List number 0,\"[0, 1, 2, 3, 4]\"': 'List number 6,\"[0, 1, 2, 3, 4, 5, 6, 7, 8]\"'}\n",
      "{'List number 0,\"[0, 1, 2, 3, 4]\"': 'List number 7,\"[0, 1, 2, 3, 4, 5]\"'}\n"
     ]
    }
   ],
   "source": [
    "#Here I tried to use the first column of the csv file for dictonary key, \n",
    "#but failed. Leaving to debug for later.\n",
    "\n",
    "def csv_to_dict():\n",
    "\n",
    "    with open(output_file, 'r') as o:\n",
    "        reader = csv.DictReader(o, delimiter=':', skipinitialspace=True)\n",
    "        for row in reader:\n",
    "            print(row)\n",
    "csv_to_dict()"
   ]
  },
  {
   "cell_type": "code",
   "execution_count": 13,
   "id": "45fdfb83",
   "metadata": {},
   "outputs": [],
   "source": [
    "# TASK 4"
   ]
  },
  {
   "cell_type": "code",
   "execution_count": 26,
   "id": "ae92a1bd",
   "metadata": {},
   "outputs": [],
   "source": [
    "myjson = '''\n",
    "[\n",
    "        {\n",
    "            \"id\": 11,\n",
    "            \"name\": \"ajax\",\n",
    "            \"subject\": \"OR\",\n",
    "            \"mark\": 63\n",
    "        },\n",
    "        {\n",
    "            \"id\": 12,\n",
    "            \"name\": \"javascript\",\n",
    "            \"subject\": \"OR\",\n",
    "            \"mark\": 63\n",
    "        },\n",
    "        {\n",
    "            \"id\": 13,\n",
    "            \"name\": \"jquery\",\n",
    "            \"subject\": \"OR\",\n",
    "            \"mark\": 63\n",
    "        },\n",
    "        {\n",
    "            \"id\": 14,\n",
    "            \"name\": \"ajax\",\n",
    "            \"subject\": \"OR\",\n",
    "            \"mark\": 63\n",
    "        }\n",
    "    ]\n",
    "'''"
   ]
  },
  {
   "cell_type": "code",
   "execution_count": 27,
   "id": "ef11b277",
   "metadata": {},
   "outputs": [
    {
     "data": {
      "text/plain": [
       "str"
      ]
     },
     "execution_count": 27,
     "metadata": {},
     "output_type": "execute_result"
    }
   ],
   "source": [
    "type(myjson)"
   ]
  },
  {
   "cell_type": "code",
   "execution_count": 28,
   "id": "89d2817e",
   "metadata": {},
   "outputs": [],
   "source": [
    "import json"
   ]
  },
  {
   "cell_type": "code",
   "execution_count": 29,
   "id": "9c5f35ac",
   "metadata": {},
   "outputs": [],
   "source": [
    "j = json.loads(myjson)"
   ]
  },
  {
   "cell_type": "code",
   "execution_count": 30,
   "id": "7986c2f4",
   "metadata": {},
   "outputs": [
    {
     "data": {
      "text/plain": [
       "list"
      ]
     },
     "execution_count": 30,
     "metadata": {},
     "output_type": "execute_result"
    }
   ],
   "source": [
    "type(j)"
   ]
  },
  {
   "cell_type": "code",
   "execution_count": 31,
   "id": "c2403a3f",
   "metadata": {},
   "outputs": [
    {
     "name": "stdout",
     "output_type": "stream",
     "text": [
      "[{'id': 11, 'name': 'ajax', 'subject': 'OR', 'mark': 63}, {'id': 12, 'name': 'javascript', 'subject': 'OR', 'mark': 63}, {'id': 13, 'name': 'jquery', 'subject': 'OR', 'mark': 63}, {'id': 14, 'name': 'ajax', 'subject': 'OR', 'mark': 63}]\n"
     ]
    }
   ],
   "source": [
    "print(j)"
   ]
  },
  {
   "cell_type": "code",
   "execution_count": null,
   "id": "ad2d8196",
   "metadata": {},
   "outputs": [],
   "source": []
  }
 ],
 "metadata": {
  "kernelspec": {
   "display_name": "Python 3 (ipykernel)",
   "language": "python",
   "name": "python3"
  },
  "language_info": {
   "codemirror_mode": {
    "name": "ipython",
    "version": 3
   },
   "file_extension": ".py",
   "mimetype": "text/x-python",
   "name": "python",
   "nbconvert_exporter": "python",
   "pygments_lexer": "ipython3",
   "version": "3.9.7"
  }
 },
 "nbformat": 4,
 "nbformat_minor": 5
}
